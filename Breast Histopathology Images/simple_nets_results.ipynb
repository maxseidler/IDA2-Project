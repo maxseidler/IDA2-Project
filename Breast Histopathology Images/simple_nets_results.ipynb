{
 "cells": [
  {
   "cell_type": "code",
   "execution_count": 1,
   "metadata": {
    "ExecuteTime": {
     "end_time": "2018-02-19T17:25:25.390999Z",
     "start_time": "2018-02-19T17:25:20.454864Z"
    }
   },
   "outputs": [
    {
     "name": "stderr",
     "output_type": "stream",
     "text": [
      "C:\\Users\\Max\\Miniconda3\\lib\\site-packages\\h5py\\__init__.py:36: FutureWarning: Conversion of the second argument of issubdtype from `float` to `np.floating` is deprecated. In future, it will be treated as `np.float64 == np.dtype(float).type`.\n",
      "  from ._conv import register_converters as _register_converters\n",
      "Using TensorFlow backend.\n"
     ]
    }
   ],
   "source": [
    "from keras.models import Sequential\n",
    "from keras.layers import Dense, Dropout, Flatten\n",
    "from keras.layers import Conv2D, MaxPooling2D\n",
    "from keras.utils import np_utils\n",
    "\n",
    "from sklearn.model_selection import train_test_split\n",
    "\n",
    "import numpy as np\n",
    "from matplotlib import pyplot as plt\n",
    "import glob\n",
    "import cv2"
   ]
  },
  {
   "cell_type": "code",
   "execution_count": 2,
   "metadata": {
    "ExecuteTime": {
     "end_time": "2018-02-19T17:25:25.441733Z",
     "start_time": "2018-02-19T17:25:25.398404Z"
    }
   },
   "outputs": [],
   "source": [
    "def prepare_data(mode):\n",
    "    \"\"\" divides data into images and labels\n",
    "        Min-Max scales images\n",
    "    Params:\n",
    "        mode : String (either \"padded\" or \"resized\")\n",
    "    Returns:\n",
    "        scaled_X : array with images\n",
    "        y : array with corresponding labels\n",
    "        (0 for non-IDC, 1 for IDC)\n",
    "    \"\"\"\n",
    "    patches = glob.glob('./' + mode + '/*.png', recursive=True)\n",
    "    class0 = []\n",
    "    class1 = []\n",
    "    for name in glob.glob('./' + mode + '/*class0.png', recursive=True):\n",
    "        class0.append(name)\n",
    "    for name in glob.glob('./' + mode + '/*class1.png', recursive=True):\n",
    "        class1.append(name)\n",
    "    X = []\n",
    "    y = []\n",
    "    for img_name in patches:\n",
    "        image = cv2.imread(img_name)\n",
    "        X.append(image)\n",
    "        y.append(0) if img_name in class0 else y.append(1)\n",
    "    scaled_X = np.array(X)/255.0\n",
    "    return scaled_X, y"
   ]
  },
  {
   "cell_type": "code",
   "execution_count": 3,
   "metadata": {
    "ExecuteTime": {
     "end_time": "2018-02-19T17:25:35.413888Z",
     "start_time": "2018-02-19T17:25:25.449890Z"
    }
   },
   "outputs": [],
   "source": [
    "X_pad, y = prepare_data(\"padded\")"
   ]
  },
  {
   "cell_type": "code",
   "execution_count": 4,
   "metadata": {
    "ExecuteTime": {
     "end_time": "2018-02-19T17:25:37.376381Z",
     "start_time": "2018-02-19T17:25:35.416314Z"
    }
   },
   "outputs": [],
   "source": [
    "X_pad_train, X_pad_test, y_pad_train, y_pad_test = train_test_split(X_pad, y, test_size=0.1, random_state=42)"
   ]
  },
  {
   "cell_type": "code",
   "execution_count": 5,
   "metadata": {
    "ExecuteTime": {
     "end_time": "2018-02-19T17:25:37.396483Z",
     "start_time": "2018-02-19T17:25:37.382113Z"
    }
   },
   "outputs": [],
   "source": [
    "y_pad_train_onehot = np_utils.to_categorical(y_pad_train, 2)\n",
    "y_pad_test_onehot = np_utils.to_categorical(y_pad_test, 2)"
   ]
  },
  {
   "cell_type": "code",
   "execution_count": 3,
   "metadata": {
    "ExecuteTime": {
     "end_time": "2018-02-19T17:25:37.437496Z",
     "start_time": "2018-02-19T17:25:37.400794Z"
    }
   },
   "outputs": [],
   "source": [
    "def create_CNN():\n",
    "    input_shape = (50, 50, 3)\n",
    "    num_classes = 2\n",
    "    \n",
    "    model = Sequential()\n",
    "    model.add(Conv2D(32, kernel_size=(5, 5), activation='relu', input_shape=input_shape)) # strides=(1, 1) default\n",
    "    model.add(MaxPooling2D(pool_size=(2, 2)))\n",
    "    model.add(Conv2D(64, (5, 5), activation='relu'))\n",
    "    model.add(MaxPooling2D(pool_size=(2, 2)))\n",
    "    model.add(Dropout(0.1))\n",
    "    model.add(Flatten())\n",
    "    model.add(Dense(1000, activation='relu'))\n",
    "    model.add(Dense(num_classes, activation='softmax'))\n",
    "    \n",
    "    model.compile(loss='categorical_crossentropy', optimizer='adam', metrics=['accuracy'])\n",
    "    return model"
   ]
  },
  {
   "cell_type": "code",
   "execution_count": 7,
   "metadata": {
    "ExecuteTime": {
     "end_time": "2018-02-19T17:25:37.642984Z",
     "start_time": "2018-02-19T17:25:37.442038Z"
    }
   },
   "outputs": [
    {
     "name": "stdout",
     "output_type": "stream",
     "text": [
      "_________________________________________________________________\n",
      "Layer (type)                 Output Shape              Param #   \n",
      "=================================================================\n",
      "conv2d_1 (Conv2D)            (None, 46, 46, 32)        2432      \n",
      "_________________________________________________________________\n",
      "max_pooling2d_1 (MaxPooling2 (None, 23, 23, 32)        0         \n",
      "_________________________________________________________________\n",
      "conv2d_2 (Conv2D)            (None, 19, 19, 64)        51264     \n",
      "_________________________________________________________________\n",
      "max_pooling2d_2 (MaxPooling2 (None, 9, 9, 64)          0         \n",
      "_________________________________________________________________\n",
      "dropout_1 (Dropout)          (None, 9, 9, 64)          0         \n",
      "_________________________________________________________________\n",
      "flatten_1 (Flatten)          (None, 5184)              0         \n",
      "_________________________________________________________________\n",
      "dense_1 (Dense)              (None, 1000)              5185000   \n",
      "_________________________________________________________________\n",
      "dense_2 (Dense)              (None, 2)                 2002      \n",
      "=================================================================\n",
      "Total params: 5,240,698\n",
      "Trainable params: 5,240,698\n",
      "Non-trainable params: 0\n",
      "_________________________________________________________________\n"
     ]
    }
   ],
   "source": [
    "epochs = 10\n",
    "batch_size = 128\n",
    "\n",
    "cnn_pad = create_CNN()\n",
    "cnn_pad.summary()"
   ]
  },
  {
   "cell_type": "code",
   "execution_count": 8,
   "metadata": {
    "ExecuteTime": {
     "end_time": "2018-02-19T17:34:32.356066Z",
     "start_time": "2018-02-19T17:25:37.648126Z"
    }
   },
   "outputs": [
    {
     "name": "stdout",
     "output_type": "stream",
     "text": [
      "Epoch 1/10\n",
      "249771/249771 [==============================] - 213s 854us/step - loss: 0.4104 - acc: 0.8212\n",
      "Epoch 2/10\n",
      "249771/249771 [==============================] - 115s 461us/step - loss: 0.3743 - acc: 0.8408\n",
      "Epoch 3/10\n",
      "249771/249771 [==============================] - 99s 396us/step - loss: 0.3613 - acc: 0.8465\n",
      "Epoch 4/10\n",
      "249771/249771 [==============================] - 100s 399us/step - loss: 0.3516 - acc: 0.8513\n",
      "Epoch 5/10\n",
      "249771/249771 [==============================] - 93s 372us/step - loss: 0.3431 - acc: 0.8538\n",
      "Epoch 6/10\n",
      "249771/249771 [==============================] - 92s 369us/step - loss: 0.3385 - acc: 0.8570\n",
      "Epoch 7/10\n",
      "249771/249771 [==============================] - 91s 365us/step - loss: 0.3303 - acc: 0.8609\n",
      "Epoch 8/10\n",
      "249771/249771 [==============================] - 1088s 4ms/step - loss: 0.3253 - acc: 0.8627\n",
      "Epoch 9/10\n",
      "249771/249771 [==============================] - 103s 414us/step - loss: 0.3200 - acc: 0.8659\n",
      "Epoch 10/10\n",
      "249771/249771 [==============================] - 94s 375us/step - loss: 0.3145 - acc: 0.8680\n"
     ]
    }
   ],
   "source": [
    "pad_fit = cnn_pad.fit(X_pad_train, y_pad_train_onehot,\n",
    "          batch_size=batch_size,\n",
    "          epochs=epochs,\n",
    "          verbose=1)"
   ]
  },
  {
   "cell_type": "code",
   "execution_count": 9,
   "metadata": {
    "ExecuteTime": {
     "end_time": "2018-02-19T17:35:29.518532Z",
     "start_time": "2018-02-19T17:34:32.363754Z"
    }
   },
   "outputs": [
    {
     "name": "stdout",
     "output_type": "stream",
     "text": [
      "Test accuracy: 0.8521601268352829\n"
     ]
    },
    {
     "data": {
      "image/png": "[encoded data removed]",
      "text/plain": [
       "<matplotlib.figure.Figure at 0x2df9defc5f8>"
      ]
     },
     "metadata": {},
     "output_type": "display_data"
    }
   ],
   "source": [
    "score_pad = cnn_pad.evaluate(X_pad_test, y_pad_test_onehot, verbose=0)\n",
    "print('Test accuracy:', score_pad[1])\n",
    "\n",
    "plt.plot(pad_fit.history['loss'])\n",
    "plt.xlabel('Epoch')\n",
    "plt.ylabel('Loss')\n",
    "plt.title('Simple CNN with padded imgs')\n",
    "plt.show()"
   ]
  },
  {
   "cell_type": "code",
   "execution_count": 5,
   "metadata": {
    "ExecuteTime": {
     "end_time": "2018-02-19T17:44:34.330750Z",
     "start_time": "2018-02-19T17:35:29.522234Z"
    }
   },
   "outputs": [
    {
     "name": "stdout",
     "output_type": "stream",
     "text": [
      "Epoch 1/10\n",
      "249771/249771 [==============================] - 840s 3ms/step - loss: 0.4131 - acc: 0.8202\n",
      "Epoch 2/10\n",
      "249771/249771 [==============================] - 147s 589us/step - loss: 0.3763 - acc: 0.8392\n",
      "Epoch 3/10\n",
      "249771/249771 [==============================] - 105s 419us/step - loss: 0.3660 - acc: 0.8444\n",
      "Epoch 4/10\n",
      "249771/249771 [==============================] - 93s 371us/step - loss: 0.3583 - acc: 0.8475\n",
      "Epoch 5/10\n",
      "249771/249771 [==============================] - 94s 375us/step - loss: 0.3502 - acc: 0.8511\n",
      "Epoch 6/10\n",
      "249771/249771 [==============================] - 92s 366us/step - loss: 0.3458 - acc: 0.8532\n",
      "Epoch 7/10\n",
      "249771/249771 [==============================] - 152s 608us/step - loss: 0.3392 - acc: 0.8561\n",
      "Epoch 8/10\n",
      "249771/249771 [==============================] - 112s 448us/step - loss: 0.3358 - acc: 0.8578\n",
      "Epoch 9/10\n",
      "249771/249771 [==============================] - 91s 366us/step - loss: 0.3335 - acc: 0.8593\n",
      "Epoch 10/10\n",
      "249771/249771 [==============================] - 97s 389us/step - loss: 0.3281 - acc: 0.8621\n"
     ]
    }
   ],
   "source": [
    "# for comparison with resized imgs\n",
    "X_inter, y = prepare_data(\"resized\")\n",
    "X_inter_train, X_inter_test, y_inter_train, y_inter_test = train_test_split(X_inter, y, test_size=0.1, random_state=42)\n",
    "y_inter_train_onehot = np_utils.to_categorical(y_inter_train, 2)\n",
    "y_inter_test_onehot = np_utils.to_categorical(y_inter_test, 2)\n",
    "\n",
    "epochs = 10\n",
    "batch_size = 128\n",
    "cnn_inter = create_CNN()\n",
    "inter_fit = cnn_inter.fit(X_inter_train, y_inter_train_onehot,\n",
    "          batch_size=batch_size,\n",
    "          epochs=epochs,\n",
    "          verbose=1)"
   ]
  },
  {
   "cell_type": "code",
   "execution_count": 6,
   "metadata": {
    "ExecuteTime": {
     "end_time": "2018-02-19T17:44:36.250207Z",
     "start_time": "2018-02-19T17:44:34.335324Z"
    }
   },
   "outputs": [
    {
     "name": "stdout",
     "output_type": "stream",
     "text": [
      "Test accuracy: 0.855871437324239\n"
     ]
    },
    {
     "data": {
      "image/png": "[encoded data removed]",
      "text/plain": [
       "<matplotlib.figure.Figure at 0x243c8cfe080>"
      ]
     },
     "metadata": {},
     "output_type": "display_data"
    }
   ],
   "source": [
    "score_inter = cnn_inter.evaluate(X_inter_test, y_inter_test_onehot, verbose=0)\n",
    "print('Test accuracy:', score_inter[1])\n",
    "\n",
    "plt.plot(inter_fit.history['loss'])\n",
    "plt.xlabel('Epoch')\n",
    "plt.ylabel('Loss')\n",
    "plt.title('Simple CNN with interpolated imgs')\n",
    "plt.show()"
   ]
  },
  {
   "cell_type": "code",
   "execution_count": null,
   "metadata": {},
   "outputs": [],
   "source": []
  }
 ],
 "metadata": {
  "kernelspec": {
   "display_name": "Python 3",
   "language": "python",
   "name": "python3"
  },
  "language_info": {
   "codemirror_mode": {
    "name": "ipython",
    "version": 3
   },
   "file_extension": ".py",
   "mimetype": "text/x-python",
   "name": "python",
   "nbconvert_exporter": "python",
   "pygments_lexer": "ipython3",
   "version": "3.6.4"
  }
 },
 "nbformat": 4,
 "nbformat_minor": 2
}
