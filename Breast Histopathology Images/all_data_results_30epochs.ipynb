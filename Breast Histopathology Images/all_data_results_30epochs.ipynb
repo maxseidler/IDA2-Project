{
 "cells": [
  {
   "cell_type": "markdown",
   "metadata": {},
   "source": [
    "# Settings"
   ]
  },
  {
   "cell_type": "code",
   "execution_count": 1,
   "metadata": {
    "ExecuteTime": {
     "end_time": "2018-03-25T19:37:12.842254Z",
     "start_time": "2018-03-25T19:37:09.142612Z"
    }
   },
   "outputs": [
    {
     "name": "stderr",
     "output_type": "stream",
     "text": [
      "C:\\Users\\Max\\Miniconda3\\lib\\site-packages\\h5py\\__init__.py:36: FutureWarning: Conversion of the second argument of issubdtype from `float` to `np.floating` is deprecated. In future, it will be treated as `np.float64 == np.dtype(float).type`.\n",
      "  from ._conv import register_converters as _register_converters\n",
      "Using TensorFlow backend.\n"
     ]
    }
   ],
   "source": [
    "import cv2\n",
    "import glob\n",
    "import random\n",
    "import numpy as np\n",
    "from time import time\n",
    "from matplotlib import pyplot as plt\n",
    "\n",
    "from sklearn.model_selection import StratifiedShuffleSplit\n",
    "from sklearn.metrics import roc_curve, roc_auc_score, f1_score\n",
    "\n",
    "from keras.models import Sequential\n",
    "from keras.layers import Dense, Dropout, Flatten, BatchNormalization, Activation\n",
    "from keras.layers import Conv2D, MaxPooling2D\n",
    "from keras.utils import np_utils, plot_model\n",
    "from keras.regularizers import l2\n",
    "from keras.callbacks import EarlyStopping, TensorBoard, Callback"
   ]
  },
  {
   "cell_type": "markdown",
   "metadata": {},
   "source": [
    "# Prepare data"
   ]
  },
  {
   "cell_type": "raw",
   "metadata": {},
   "source": [
    "def pad_data():\n",
    "    \"\"\"Pads images that are smaller than 50x50 with zeros. Saves images in a new folder.\"\"\"\n",
    "    WIDTH = 50\n",
    "    HEIGHT = 50\n",
    "    for img_name in patches:\n",
    "        image = cv2.imread(img_name)\n",
    "        orig_height, orig_width, _ = image.shape\n",
    "        path = \"./padded/\" + img_name[14:]\n",
    "        if (orig_height != 50 or orig_width != 50):\n",
    "            height_diff = HEIGHT - orig_height\n",
    "            width_diff = WIDTH - orig_width\n",
    "            top = height_diff // 2 # floor division\n",
    "            bottom = height_diff - top\n",
    "            left = width_diff // 2\n",
    "            right = width_diff - left\n",
    "            constant = cv2.copyMakeBorder(image, top, bottom, left, right, cv2.BORDER_CONSTANT, value=[0,0,0])\n",
    "            cv2.imwrite(path, constant)\n",
    "        else:\n",
    "            cv2.imwrite(path, image)\n",
    "            \n",
    "patches = glob.glob('./data/**/*.png', recursive=True)\n",
    "pad_data()"
   ]
  },
  {
   "cell_type": "code",
   "execution_count": 2,
   "metadata": {},
   "outputs": [],
   "source": [
    "def load_and_split_data():\n",
    "    \"\"\"Loads data from disk and splits into training, tuning and testing set.\"\"\"\n",
    "    patches = glob.glob('./padded/*.png')\n",
    "    X = []\n",
    "    y = []\n",
    "\n",
    "    for img_name in patches:\n",
    "        image = cv2.imread(img_name)\n",
    "        X.append(image)\n",
    "        y.append(0) if img_name.endswith('class0.png') else y.append(1)\n",
    "\n",
    "    X = np.array(X)\n",
    "    y = np.array(y)\n",
    "    \n",
    "    # splitting data into training, validation and test set via indices\n",
    "    splitter = StratifiedShuffleSplit(n_splits=1, test_size=0.1, random_state=42)\n",
    "    train_idx, test_idx = list(splitter.split(X, y))[0]\n",
    "    train_idx, tune_idx = list(splitter.split(X[train_idx], y[train_idx]))[0]\n",
    "    \n",
    "    return X[train_idx], X[tune_idx], X[test_idx], y[train_idx], y[tune_idx], y[test_idx]"
   ]
  },
  {
   "cell_type": "code",
   "execution_count": 3,
   "metadata": {
    "ExecuteTime": {
     "end_time": "2018-03-21T16:36:40.417505Z",
     "start_time": "2018-03-21T16:36:40.338509Z"
    }
   },
   "outputs": [],
   "source": [
    "def prepare_data():\n",
    "    \"\"\"Zero centers and normalizes data between -1 and 1. One-hot encodes label vectors.\"\"\"\n",
    "    X_train, X_tune, X_test, y_train, y_tune, y_test = load_and_split_data()\n",
    "    \n",
    "    # calculate per channel 'mean image' (average pixel values) from training data\n",
    "    mean_image = np.mean(X_train, axis = 0)  # shape=(50, 50, 3)\n",
    "    \n",
    "    # creating zero-centered datasets\n",
    "    X_train = X_train - mean_image\n",
    "    X_tune = X_tune - mean_image\n",
    "    X_test = X_test - mean_image\n",
    "    \n",
    "    # normalize between -1 and 1\n",
    "    X_train = 2 * (X_train - np.min(X_train))/(np.max(X_train) - np.min(X_train)) - 1\n",
    "    X_tune = 2 * (X_tune - np.min(X_tune))/(np.max(X_tune) - np.min(X_tune)) - 1\n",
    "    X_test = 2 * (X_test - np.min(X_test))/(np.max(X_test) - np.min(X_test)) - 1\n",
    "    \n",
    "    # one-hot encoding labels\n",
    "    y_train = np_utils.to_categorical(y_train, 2)\n",
    "    y_tune = np_utils.to_categorical(y_tune, 2)\n",
    "    y_test = np_utils.to_categorical(y_test, 2)\n",
    "    \n",
    "    return X_train, X_tune, X_test, y_train, y_tune, y_test"
   ]
  },
  {
   "cell_type": "raw",
   "metadata": {},
   "source": [
    "def balance(X, y):\n",
    "    \"\"\" Function for getting perfectly balanced data set (50/50)\n",
    "        Takes as many negative examples, as there are positive ones\n",
    "        DON'T USE IT IF YOUR DATASET IS OK\n",
    "    \"\"\"\n",
    "    X0 = []\n",
    "    X1 = []\n",
    "    for i in range(0, len(y)):\n",
    "        X1.append(X[i]) if y[i] == 1 else X0.append(X[i]) \n",
    "    X0 = np.array(X0)\n",
    "    X1 = np.array(X1)\n",
    "    \n",
    "    X0 = X0[:len(X1)]\n",
    "    X_balanced = np.concatenate((X0, X1))\n",
    "\n",
    "    a = [0] * len(X0) \n",
    "    b = [1] * len(X1)\n",
    "    y_balanced = a + b\n",
    "\n",
    "    return X_balanced, y_balanced\n",
    "    \n",
    "#X, y = balance(X, y)"
   ]
  },
  {
   "cell_type": "markdown",
   "metadata": {},
   "source": [
    "# Load and analyze data"
   ]
  },
  {
   "cell_type": "code",
   "execution_count": 4,
   "metadata": {},
   "outputs": [],
   "source": [
    "X_train, X_tune, X_test, y_train, y_tune, y_test = prepare_data()"
   ]
  },
  {
   "cell_type": "code",
   "execution_count": 5,
   "metadata": {
    "ExecuteTime": {
     "end_time": "2018-03-21T16:37:03.308233Z",
     "start_time": "2018-03-21T16:36:57.555690Z"
    }
   },
   "outputs": [
    {
     "name": "stdout",
     "output_type": "stream",
     "text": [
      "Training set has 65103 (40.8%) postive and 159690 (59.2%) negative examples.\n",
      "> shape=(224793, 50, 50, 3), range=[-1.0, 1.0]\n",
      "\n",
      "Validation set has 7228 (40.7%) postive and 17750 (59.3%) negative examples.\n",
      "> shape=(24978, 50, 50, 3), range=[-1.0, 1.0]\n",
      "\n",
      "Test set has 7879 (39.6%) postive and 19874 (60.4%) negative examples.\n",
      "> shape=(27753, 50, 50, 3), range=[-1.0, 1.0]\n",
      "\n"
     ]
    }
   ],
   "source": [
    "def analyze_data(X, y, name):\n",
    "    \"\"\"Prints information about dataset.\"\"\"\n",
    "    pos = (y[:,1]==1).sum()\n",
    "    neg = (y[:,0]==1).sum()\n",
    "    ratio = pos/neg\n",
    "    print(\"{} set has {} ({:.3}%) postive and {} ({:.3}%) negative examples.\".format(name, pos, pos/neg*100, neg, 100.0-pos/neg*100))\n",
    "    print(\"> shape={}, range=[{}, {}]\".format(X.shape, np.min(X), np.max(X)), end='\\n\\n')\n",
    "\n",
    "analyze_data(X_train, y_train, \"Training\")\n",
    "analyze_data(X_tune, y_tune, \"Validation\")\n",
    "analyze_data(X_test, y_test, \"Test\")"
   ]
  },
  {
   "cell_type": "markdown",
   "metadata": {},
   "source": [
    "# Build model"
   ]
  },
  {
   "cell_type": "code",
   "execution_count": 6,
   "metadata": {},
   "outputs": [],
   "source": [
    "def create_CNN():\n",
    "    \"\"\"Builds Keras model using a CNN architecture.\"\"\"\n",
    "    input_shape = (50, 50, 3)\n",
    "    num_classes = 2\n",
    "    reg = 0.0001\n",
    "    \n",
    "    model = Sequential()\n",
    "    model.add(BatchNormalization(input_shape=input_shape))\n",
    "    model.add(Conv2D(32, (5, 5), padding='same', kernel_initializer='he_normal'))              #50x50\n",
    "    model.add(Activation('relu'))\n",
    "    model.add(BatchNormalization())\n",
    "    model.add(Conv2D(32, (5, 5), padding='valid', kernel_initializer='he_normal'))             #46x46\n",
    "    model.add(Activation('relu'))\n",
    "    model.add(BatchNormalization())\n",
    "    model.add(MaxPooling2D(pool_size=(2, 2), strides=2))                                       #23x23\n",
    "    model.add(Dropout(0.2))\n",
    "    \n",
    "    model.add(Conv2D(64, (3, 3), padding='valid', kernel_initializer='he_normal'))             #21x21\n",
    "    model.add(Activation('relu'))\n",
    "    model.add(BatchNormalization())\n",
    "    model.add(Conv2D(64, (3, 3), padding='valid', strides=2, kernel_initializer='he_normal'))  #10x10\n",
    "    model.add(Activation('relu'))\n",
    "    model.add(BatchNormalization())\n",
    "    model.add(MaxPooling2D(pool_size=(2, 2), strides=2))                                       #5x5\n",
    "    model.add(Dropout(0.2))\n",
    "    \n",
    "    model.add(Flatten())\n",
    "    model.add(Dense(512, kernel_regularizer=l2(reg)))\n",
    "    model.add(Activation('relu'))\n",
    "    model.add(BatchNormalization())\n",
    "    model.add(Dropout(0.2))\n",
    "    model.add(Dense(num_classes, activation='softmax'))\n",
    "    \n",
    "    model.compile(loss='categorical_crossentropy', optimizer='adam', metrics=['accuracy'])\n",
    "    \n",
    "    return model"
   ]
  },
  {
   "cell_type": "code",
   "execution_count": 7,
   "metadata": {
    "ExecuteTime": {
     "end_time": "2018-03-21T10:10:38.705569Z",
     "start_time": "2018-03-21T10:10:38.203822Z"
    }
   },
   "outputs": [
    {
     "name": "stdout",
     "output_type": "stream",
     "text": [
      "_________________________________________________________________\n",
      "Layer (type)                 Output Shape              Param #   \n",
      "=================================================================\n",
      "batch_normalization_1 (Batch (None, 50, 50, 3)         12        \n",
      "_________________________________________________________________\n",
      "conv2d_1 (Conv2D)            (None, 50, 50, 32)        2432      \n",
      "_________________________________________________________________\n",
      "activation_1 (Activation)    (None, 50, 50, 32)        0         \n",
      "_________________________________________________________________\n",
      "batch_normalization_2 (Batch (None, 50, 50, 32)        128       \n",
      "_________________________________________________________________\n",
      "conv2d_2 (Conv2D)            (None, 46, 46, 32)        25632     \n",
      "_________________________________________________________________\n",
      "activation_2 (Activation)    (None, 46, 46, 32)        0         \n",
      "_________________________________________________________________\n",
      "batch_normalization_3 (Batch (None, 46, 46, 32)        128       \n",
      "_________________________________________________________________\n",
      "max_pooling2d_1 (MaxPooling2 (None, 23, 23, 32)        0         \n",
      "_________________________________________________________________\n",
      "dropout_1 (Dropout)          (None, 23, 23, 32)        0         \n",
      "_________________________________________________________________\n",
      "conv2d_3 (Conv2D)            (None, 21, 21, 64)        18496     \n",
      "_________________________________________________________________\n",
      "activation_3 (Activation)    (None, 21, 21, 64)        0         \n",
      "_________________________________________________________________\n",
      "batch_normalization_4 (Batch (None, 21, 21, 64)        256       \n",
      "_________________________________________________________________\n",
      "conv2d_4 (Conv2D)            (None, 10, 10, 64)        36928     \n",
      "_________________________________________________________________\n",
      "activation_4 (Activation)    (None, 10, 10, 64)        0         \n",
      "_________________________________________________________________\n",
      "batch_normalization_5 (Batch (None, 10, 10, 64)        256       \n",
      "_________________________________________________________________\n",
      "max_pooling2d_2 (MaxPooling2 (None, 5, 5, 64)          0         \n",
      "_________________________________________________________________\n",
      "dropout_2 (Dropout)          (None, 5, 5, 64)          0         \n",
      "_________________________________________________________________\n",
      "flatten_1 (Flatten)          (None, 1600)              0         \n",
      "_________________________________________________________________\n",
      "dense_1 (Dense)              (None, 512)               819712    \n",
      "_________________________________________________________________\n",
      "activation_5 (Activation)    (None, 512)               0         \n",
      "_________________________________________________________________\n",
      "batch_normalization_6 (Batch (None, 512)               2048      \n",
      "_________________________________________________________________\n",
      "dropout_3 (Dropout)          (None, 512)               0         \n",
      "_________________________________________________________________\n",
      "dense_2 (Dense)              (None, 2)                 1026      \n",
      "=================================================================\n",
      "Total params: 907,054\n",
      "Trainable params: 905,640\n",
      "Non-trainable params: 1,414\n",
      "_________________________________________________________________\n"
     ]
    }
   ],
   "source": [
    "cnn_pad = create_CNN()\n",
    "cnn_pad.summary()\n",
    "#plot_model(cnn_pad, to_file='simple_cnn_model.png')"
   ]
  },
  {
   "cell_type": "markdown",
   "metadata": {},
   "source": [
    "# Train and evaluate the network"
   ]
  },
  {
   "cell_type": "code",
   "execution_count": 8,
   "metadata": {},
   "outputs": [],
   "source": [
    "class MetricsCallback(Callback):\n",
    "    \"\"\"Class for creating a callback which will compute F1 score and roc_auc_score\n",
    "       at the end of each epoch using the whole validation data.\"\"\"\n",
    "    def on_train_begin(self, logs={}):\n",
    "        self.f1s = []\n",
    "        self.aucs = []\n",
    "        \n",
    "    def on_epoch_end(self, batch, logs={}):\n",
    "        predict = np.asarray(self.model.predict(self.validation_data[0])).round()\n",
    "        target = self.validation_data[1]\n",
    "        val_f1 = f1_score(target, predict, average='micro')\n",
    "        val_auc= roc_auc_score(target, predict)\n",
    "        logs['val_auc'] = val_auc\n",
    "        logs['val_f1'] = val_f1\n",
    "        self.f1s.append(val_f1)\n",
    "        self.aucs.append(val_auc)\n",
    "        #print(\" - val_f1: {} - val_auc: {}\".format(val_f1.round(4), val_auc.round(4)))\n",
    "        return"
   ]
  },
  {
   "cell_type": "code",
   "execution_count": 9,
   "metadata": {
    "ExecuteTime": {
     "end_time": "2018-03-21T14:34:04.641582Z",
     "start_time": "2018-03-21T10:10:57.188546Z"
    }
   },
   "outputs": [
    {
     "name": "stdout",
     "output_type": "stream",
     "text": [
      "Train on 224793 samples, validate on 24978 samples\n",
      "Epoch 1/30\n",
      "224793/224793 [==============================] - 559s 2ms/step - loss: 0.4129 - acc: 0.8476 - val_loss: 0.3372 - val_acc: 0.8680\n",
      "Epoch 2/30\n",
      "224793/224793 [==============================] - 427s 2ms/step - loss: 0.3327 - acc: 0.8668 - val_loss: 0.3292 - val_acc: 0.8687\n",
      "Epoch 3/30\n",
      "224793/224793 [==============================] - 404s 2ms/step - loss: 0.3110 - acc: 0.8743 - val_loss: 0.3150 - val_acc: 0.8737\n",
      "Epoch 4/30\n",
      "224793/224793 [==============================] - 403s 2ms/step - loss: 0.3016 - acc: 0.8788 - val_loss: 0.3100 - val_acc: 0.8795\n",
      "Epoch 5/30\n",
      "224793/224793 [==============================] - 431s 2ms/step - loss: 0.2931 - acc: 0.8834 - val_loss: 0.2956 - val_acc: 0.8807\n",
      "Epoch 6/30\n",
      "224793/224793 [==============================] - 401s 2ms/step - loss: 0.2860 - acc: 0.8865 - val_loss: 0.2842 - val_acc: 0.8879\n",
      "Epoch 7/30\n",
      "224793/224793 [==============================] - 403s 2ms/step - loss: 0.2785 - acc: 0.8888 - val_loss: 0.2767 - val_acc: 0.8881\n",
      "Epoch 8/30\n",
      "224793/224793 [==============================] - 402s 2ms/step - loss: 0.2717 - acc: 0.8914 - val_loss: 0.2821 - val_acc: 0.8847\n",
      "Epoch 9/30\n",
      "224793/224793 [==============================] - 386s 2ms/step - loss: 0.2645 - acc: 0.8933 - val_loss: 0.2709 - val_acc: 0.8923\n",
      "Epoch 10/30\n",
      "224793/224793 [==============================] - 395s 2ms/step - loss: 0.2601 - acc: 0.8956 - val_loss: 0.2543 - val_acc: 0.8975\n",
      "Epoch 11/30\n",
      "224793/224793 [==============================] - 394s 2ms/step - loss: 0.2550 - acc: 0.8976 - val_loss: 0.2632 - val_acc: 0.8931\n",
      "Epoch 12/30\n",
      "224793/224793 [==============================] - 388s 2ms/step - loss: 0.2514 - acc: 0.8992 - val_loss: 0.2909 - val_acc: 0.8853\n",
      "Epoch 13/30\n",
      "224793/224793 [==============================] - 424s 2ms/step - loss: 0.2478 - acc: 0.9001 - val_loss: 0.2575 - val_acc: 0.8961\n",
      "Epoch 14/30\n",
      "224793/224793 [==============================] - 409s 2ms/step - loss: 0.2449 - acc: 0.9021 - val_loss: 0.2677 - val_acc: 0.8923\n",
      "Epoch 15/30\n",
      "224793/224793 [==============================] - 437s 2ms/step - loss: 0.2420 - acc: 0.9028 - val_loss: 0.2622 - val_acc: 0.8931\n",
      "Epoch 16/30\n",
      "224793/224793 [==============================] - 403s 2ms/step - loss: 0.2395 - acc: 0.9040 - val_loss: 0.2713 - val_acc: 0.8914\n",
      "Epoch 17/30\n",
      "224793/224793 [==============================] - 465s 2ms/step - loss: 0.2363 - acc: 0.9053 - val_loss: 0.2617 - val_acc: 0.8972\n",
      "Epoch 18/30\n",
      "224793/224793 [==============================] - 415s 2ms/step - loss: 0.2359 - acc: 0.9061 - val_loss: 0.2841 - val_acc: 0.8842\n",
      "Epoch 19/30\n",
      "224793/224793 [==============================] - 391s 2ms/step - loss: 0.2339 - acc: 0.9065 - val_loss: 0.2961 - val_acc: 0.8848\n",
      "Epoch 20/30\n",
      "224793/224793 [==============================] - 428s 2ms/step - loss: 0.2319 - acc: 0.9076 - val_loss: 0.2631 - val_acc: 0.8922\n",
      "Epoch 21/30\n",
      "224793/224793 [==============================] - 451s 2ms/step - loss: 0.2296 - acc: 0.9084 - val_loss: 0.2593 - val_acc: 0.8951\n",
      "Epoch 22/30\n",
      "224793/224793 [==============================] - 404s 2ms/step - loss: 0.2282 - acc: 0.9093 - val_loss: 0.2910 - val_acc: 0.8880\n",
      "Epoch 23/30\n",
      "224793/224793 [==============================] - 388s 2ms/step - loss: 0.2251 - acc: 0.9106 - val_loss: 0.2642 - val_acc: 0.8937\n",
      "Epoch 24/30\n",
      "224793/224793 [==============================] - 437s 2ms/step - loss: 0.2255 - acc: 0.9108 - val_loss: 0.2563 - val_acc: 0.8978\n",
      "Epoch 25/30\n",
      "224793/224793 [==============================] - 398s 2ms/step - loss: 0.2237 - acc: 0.9110 - val_loss: 0.2507 - val_acc: 0.8988\n",
      "Epoch 26/30\n",
      "224793/224793 [==============================] - 394s 2ms/step - loss: 0.2219 - acc: 0.9123 - val_loss: 0.3184 - val_acc: 0.8780\n",
      "Epoch 27/30\n",
      "224793/224793 [==============================] - 403s 2ms/step - loss: 0.2196 - acc: 0.9128 - val_loss: 0.2570 - val_acc: 0.8973\n",
      "Epoch 28/30\n",
      "224793/224793 [==============================] - 417s 2ms/step - loss: 0.2190 - acc: 0.9137 - val_loss: 0.3006 - val_acc: 0.8772\n",
      "Epoch 29/30\n",
      "224793/224793 [==============================] - 432s 2ms/step - loss: 0.2170 - acc: 0.9148 - val_loss: 0.2541 - val_acc: 0.8983\n",
      "Epoch 30/30\n",
      "224793/224793 [==============================] - 382s 2ms/step - loss: 0.2156 - acc: 0.9147 - val_loss: 0.2501 - val_acc: 0.9011\n"
     ]
    }
   ],
   "source": [
    "epochs = 30\n",
    "batch_size = 128\n",
    "\n",
    "# Define Keras callbacks\n",
    "#metrics = MetricsCallback()\n",
    "#early_stopping = EarlyStopping(monitor='val_loss', min_delta=0.0001, patience=10, mode='auto')\n",
    "tensorboard = TensorBoard(log_dir=\"logs/{}{}\".format(time(),'_centered_split_norm_new_arch'), histogram_freq=1, \n",
    "                          batch_size=batch_size, write_grads=True, write_images=False)\n",
    "\n",
    "# Train model\n",
    "fit_history = cnn_pad.fit(X_train, y_train, batch_size=batch_size, epochs=epochs,\n",
    "                          shuffle=True, verbose=1, validation_data=(X_tune, y_tune),\n",
    "                          callbacks=[tensorboard])#, metrics, early_stopping])"
   ]
  },
  {
   "cell_type": "code",
   "execution_count": 10,
   "metadata": {
    "ExecuteTime": {
     "end_time": "2018-03-21T14:34:05.311149Z",
     "start_time": "2018-03-21T14:34:04.648693Z"
    }
   },
   "outputs": [
    {
     "data": {
      "image/png": "[encoded data removed]",
      "text/plain": [
       "<matplotlib.figure.Figure at 0x1a016930d30>"
      ]
     },
     "metadata": {},
     "output_type": "display_data"
    }
   ],
   "source": [
    "def plot_history(history):\n",
    "    \"\"\"Utility function for plotting the model's accuracy and loss.\"\"\"\n",
    "    \n",
    "    fig, axs = plt.subplots(1,2,figsize=(15,5))\n",
    "    axs[0].set_title('Model Accuracy')\n",
    "    axs[0].set_ylabel('Accuracy')\n",
    "    axs[0].set_xlabel('Epoch')\n",
    "    axs[0].plot(history.history['acc'])\n",
    "    axs[0].plot(history.history['val_acc'])\n",
    "    axs[0].set_xticks(np.arange(1, len(history.history['acc'])+1))\n",
    "    axs[0].legend(['train', 'val'], loc='best')\n",
    "    axs[1].set_title('Model Loss')\n",
    "    axs[1].set_ylabel('Loss')\n",
    "    axs[1].set_xlabel('Epoch')\n",
    "    axs[1].plot(history.history['loss'])\n",
    "    axs[1].plot(history.history['val_loss'])\n",
    "    axs[1].set_xticks(np.arange(1, len(history.history['loss'])+1))\n",
    "    axs[1].legend(['train', 'val'], loc='best')\n",
    "    plt.show()\n",
    "    \n",
    "plot_history(fit_history)"
   ]
  },
  {
   "cell_type": "markdown",
   "metadata": {},
   "source": [
    "# Evaluate performance on test set"
   ]
  },
  {
   "cell_type": "code",
   "execution_count": 11,
   "metadata": {},
   "outputs": [],
   "source": [
    "def get_metrics(X, y):\n",
    "    \"\"\"Returns F1 score, false and true positive rate and ROC area under curve.\"\"\"\n",
    "    y_pred = cnn_pad.predict(X)  # softmax probabilities (each prediction has two entries)\n",
    "    y_prob = y_pred[:,1]         # probabilities of postitve class\n",
    "    y = np.argmax(y, axis=1)     # remove one-hot encoding\n",
    "    \n",
    "    fpr, tpr, _ = roc_curve(y, y_prob)  \n",
    "    auc = roc_auc_score(y, y_prob)\n",
    "    f1 = f1_score(y, np.argmax(y_pred, axis=1), average='micro')\n",
    "    \n",
    "    return f1, fpr, tpr, auc\n",
    "\n",
    "def plot_roc_curve(fpr, tpr, auc, dataset):\n",
    "    \"\"\"Given the false and true positive rate, as well as the area under curve,\n",
    "    this function plots the ROC curve for a given dataset.\"\"\"\n",
    "    plt.figure()\n",
    "    lw = 2\n",
    "    plt.plot(fpr, tpr, color='darkorange', lw=lw, label='ROC curve (area = {:.2}'.format(auc))\n",
    "    plt.plot([0, 1], [0, 1], color='navy', lw=lw, linestyle='--')\n",
    "    plt.xlim([0.0, 1.0])\n",
    "    plt.ylim([0.0, 1.0])\n",
    "    plt.xlabel('False Positive Rate')\n",
    "    plt.ylabel('True Positive Rate')\n",
    "    plt.title('Receiver operating characteristic on {} set'.format(dataset))\n",
    "    plt.legend(loc=\"lower right\")\n",
    "    plt.show()"
   ]
  },
  {
   "cell_type": "code",
   "execution_count": 12,
   "metadata": {
    "ExecuteTime": {
     "end_time": "2018-03-21T14:34:05.320178Z",
     "start_time": "2018-03-21T14:34:05.315229Z"
    }
   },
   "outputs": [
    {
     "name": "stdout",
     "output_type": "stream",
     "text": [
      "Evaluating test set...\n",
      "loss: 0.21 - acc: 0.916 - f1 score: 0.916\n"
     ]
    },
    {
     "data": {
      "image/png": "[encoded data removed]",
      "text/plain": [
       "<matplotlib.figure.Figure at 0x1a00afdb780>"
      ]
     },
     "metadata": {},
     "output_type": "display_data"
    }
   ],
   "source": [
    "score_pad = cnn_pad.evaluate(X_test, y_test, verbose=0)\n",
    "f1, fpr, tpr, auc = get_metrics(X_test, y_test)\n",
    "\n",
    "print(\"Evaluating test set...\")\n",
    "print(\"loss: {:.3} - acc: {:.3} - f1 score: {:.3}\".format(score_pad[0], score_pad[1], f1))\n",
    "plot_roc_curve(fpr, tpr, auc, 'test')"
   ]
  },
  {
   "cell_type": "code",
   "execution_count": null,
   "metadata": {},
   "outputs": [],
   "source": []
  }
 ],
 "metadata": {
  "kernelspec": {
   "display_name": "Python 3",
   "language": "python",
   "name": "python3"
  },
  "language_info": {
   "codemirror_mode": {
    "name": "ipython",
    "version": 3
   },
   "file_extension": ".py",
   "mimetype": "text/x-python",
   "name": "python",
   "nbconvert_exporter": "python",
   "pygments_lexer": "ipython3",
   "version": "3.6.4"
  }
 },
 "nbformat": 4,
 "nbformat_minor": 2
}
