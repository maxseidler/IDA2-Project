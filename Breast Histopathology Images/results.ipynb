{
 "cells": [
  {
   "cell_type": "code",
   "execution_count": 1,
   "metadata": {
    "ExecuteTime": {
     "end_time": "2018-02-24T19:38:18.297422Z",
     "start_time": "2018-02-24T19:38:18.282226Z"
    }
   },
   "outputs": [
    {
     "name": "stderr",
     "output_type": "stream",
     "text": [
      "C:\\Users\\Max\\Miniconda3\\lib\\site-packages\\h5py\\__init__.py:36: FutureWarning: Conversion of the second argument of issubdtype from `float` to `np.floating` is deprecated. In future, it will be treated as `np.float64 == np.dtype(float).type`.\n",
      "  from ._conv import register_converters as _register_converters\n",
      "Using TensorFlow backend.\n"
     ]
    }
   ],
   "source": [
    "from keras.models import Sequential\n",
    "from keras.layers import Dense, Dropout, Flatten, BatchNormalization, Activation\n",
    "from keras.layers import Conv2D, MaxPooling2D\n",
    "from keras.utils import np_utils\n",
    "#from keras.utils import plot_model\n",
    "\n",
    "from sklearn.model_selection import train_test_split\n",
    "\n",
    "import numpy as np\n",
    "from matplotlib import pyplot as plt\n",
    "import glob\n",
    "import cv2"
   ]
  },
  {
   "cell_type": "code",
   "execution_count": 2,
   "metadata": {
    "ExecuteTime": {
     "end_time": "2018-02-24T19:35:24.627488Z",
     "start_time": "2018-02-24T19:35:24.601578Z"
    }
   },
   "outputs": [],
   "source": [
    "def prepare_data(mode):\n",
    "    \"\"\" divides data into images and labels\n",
    "        Min-Max scales images\n",
    "    Params:\n",
    "        mode : String (either \"padded\" or \"resized\")\n",
    "    Returns:\n",
    "        scaled_X : array with images\n",
    "        y : array with corresponding labels\n",
    "        (0 for non-IDC, 1 for IDC)\n",
    "    \"\"\"\n",
    "    patches = glob.glob('./' + mode + '/*.png', recursive=True)\n",
    "    class0 = []\n",
    "    class1 = []\n",
    "    for name in glob.glob('./' + mode + '/*class0.png', recursive=True):\n",
    "        class0.append(name)\n",
    "    for name in glob.glob('./' + mode + '/*class1.png', recursive=True):\n",
    "        class1.append(name)\n",
    "    X = []\n",
    "    y = []\n",
    "    for img_name in patches:\n",
    "        image = cv2.imread(img_name)\n",
    "        X.append(image)\n",
    "        y.append(0) if img_name in class0 else y.append(1)\n",
    "    scaled_X = np.array(X)/255.0\n",
    "    return scaled_X, y"
   ]
  },
  {
   "cell_type": "code",
   "execution_count": 3,
   "metadata": {
    "ExecuteTime": {
     "end_time": "2018-02-24T22:17:31.157736Z",
     "start_time": "2018-02-24T22:17:31.100724Z"
    }
   },
   "outputs": [],
   "source": [
    "def create_CNN():\n",
    "    input_shape = (50, 50, 3)\n",
    "    num_classes = 2\n",
    "    \n",
    "    model = Sequential()\n",
    "    \n",
    "    model.add(Conv2D(32, kernel_size=(3, 3), padding='same', input_shape=input_shape)) # strides=(1, 1) default\n",
    "    model.add(BatchNormalization())\n",
    "    model.add(Activation('relu'))\n",
    "    model.add(Conv2D(32, (3, 3)))\n",
    "    model.add(BatchNormalization())\n",
    "    model.add(Activation('relu'))\n",
    "    model.add(MaxPooling2D(pool_size=(2, 2)))\n",
    "    model.add(Dropout(0.2))\n",
    "    \n",
    "    model.add(Conv2D(64, (3, 3), padding='same'))\n",
    "    model.add(BatchNormalization())\n",
    "    model.add(Activation('relu'))\n",
    "    model.add(Conv2D(64, (3, 3), padding='same'))\n",
    "    model.add(BatchNormalization())\n",
    "    model.add(Activation('relu'))\n",
    "    model.add(MaxPooling2D(pool_size=(2, 2)))\n",
    "    model.add(Dropout(0.2))\n",
    "    \n",
    "    model.add(Flatten())\n",
    "    model.add(Dense(512))\n",
    "    model.add(BatchNormalization())\n",
    "    model.add(Activation('relu'))\n",
    "    model.add(Dropout(0.2))\n",
    "    model.add(Dense(num_classes, activation='softmax'))\n",
    "    \n",
    "    model.compile(loss='categorical_crossentropy', optimizer='adam', metrics=['accuracy'])\n",
    "    return model"
   ]
  },
  {
   "cell_type": "code",
   "execution_count": 4,
   "metadata": {
    "ExecuteTime": {
     "end_time": "2018-02-24T22:17:51.690006Z",
     "start_time": "2018-02-24T22:17:51.150678Z"
    }
   },
   "outputs": [
    {
     "name": "stdout",
     "output_type": "stream",
     "text": [
      "_________________________________________________________________\n",
      "Layer (type)                 Output Shape              Param #   \n",
      "=================================================================\n",
      "conv2d_1 (Conv2D)            (None, 50, 50, 32)        896       \n",
      "_________________________________________________________________\n",
      "batch_normalization_1 (Batch (None, 50, 50, 32)        128       \n",
      "_________________________________________________________________\n",
      "activation_1 (Activation)    (None, 50, 50, 32)        0         \n",
      "_________________________________________________________________\n",
      "conv2d_2 (Conv2D)            (None, 48, 48, 32)        9248      \n",
      "_________________________________________________________________\n",
      "batch_normalization_2 (Batch (None, 48, 48, 32)        128       \n",
      "_________________________________________________________________\n",
      "activation_2 (Activation)    (None, 48, 48, 32)        0         \n",
      "_________________________________________________________________\n",
      "max_pooling2d_1 (MaxPooling2 (None, 24, 24, 32)        0         \n",
      "_________________________________________________________________\n",
      "dropout_1 (Dropout)          (None, 24, 24, 32)        0         \n",
      "_________________________________________________________________\n",
      "conv2d_3 (Conv2D)            (None, 24, 24, 64)        18496     \n",
      "_________________________________________________________________\n",
      "batch_normalization_3 (Batch (None, 24, 24, 64)        256       \n",
      "_________________________________________________________________\n",
      "activation_3 (Activation)    (None, 24, 24, 64)        0         \n",
      "_________________________________________________________________\n",
      "conv2d_4 (Conv2D)            (None, 24, 24, 64)        36928     \n",
      "_________________________________________________________________\n",
      "batch_normalization_4 (Batch (None, 24, 24, 64)        256       \n",
      "_________________________________________________________________\n",
      "activation_4 (Activation)    (None, 24, 24, 64)        0         \n",
      "_________________________________________________________________\n",
      "max_pooling2d_2 (MaxPooling2 (None, 12, 12, 64)        0         \n",
      "_________________________________________________________________\n",
      "dropout_2 (Dropout)          (None, 12, 12, 64)        0         \n",
      "_________________________________________________________________\n",
      "flatten_1 (Flatten)          (None, 9216)              0         \n",
      "_________________________________________________________________\n",
      "dense_1 (Dense)              (None, 512)               4719104   \n",
      "_________________________________________________________________\n",
      "batch_normalization_5 (Batch (None, 512)               2048      \n",
      "_________________________________________________________________\n",
      "activation_5 (Activation)    (None, 512)               0         \n",
      "_________________________________________________________________\n",
      "dropout_3 (Dropout)          (None, 512)               0         \n",
      "_________________________________________________________________\n",
      "dense_2 (Dense)              (None, 2)                 1026      \n",
      "=================================================================\n",
      "Total params: 4,788,514\n",
      "Trainable params: 4,787,106\n",
      "Non-trainable params: 1,408\n",
      "_________________________________________________________________\n"
     ]
    }
   ],
   "source": [
    "epochs = 10\n",
    "batch_size = 128\n",
    "\n",
    "cnn_pad = create_CNN()\n",
    "cnn_pad.summary()\n",
    "#plot_model(cnn_pad, to_file='simple_cnn_model.png')"
   ]
  },
  {
   "cell_type": "code",
   "execution_count": 5,
   "metadata": {
    "ExecuteTime": {
     "end_time": "2018-02-24T23:08:43.539365Z",
     "start_time": "2018-02-24T22:17:51.849799Z"
    }
   },
   "outputs": [
    {
     "name": "stdout",
     "output_type": "stream",
     "text": [
      "Epoch 1/10\n",
      "249771/249771 [==============================] - 376s 2ms/step - loss: 0.3395 - acc: 0.8558\n",
      "Epoch 2/10\n",
      "249771/249771 [==============================] - 235s 939us/step - loss: 0.2968 - acc: 0.8737\n",
      "Epoch 3/10\n",
      "249771/249771 [==============================] - 218s 874us/step - loss: 0.2797 - acc: 0.8815\n",
      "Epoch 4/10\n",
      "249771/249771 [==============================] - 220s 882us/step - loss: 0.2665 - acc: 0.8872\n",
      "Epoch 5/10\n",
      "249771/249771 [==============================] - 218s 872us/step - loss: 0.2549 - acc: 0.8927\n",
      "Epoch 6/10\n",
      "249771/249771 [==============================] - 217s 870us/step - loss: 0.2442 - acc: 0.8973\n",
      "Epoch 7/10\n",
      "249771/249771 [==============================] - 218s 873us/step - loss: 0.2354 - acc: 0.9013\n",
      "Epoch 8/10\n",
      "249771/249771 [==============================] - 217s 870us/step - loss: 0.2267 - acc: 0.9045\n",
      "Epoch 9/10\n",
      "249771/249771 [==============================] - 220s 879us/step - loss: 0.2164 - acc: 0.9098\n",
      "Epoch 10/10\n",
      "249771/249771 [==============================] - 219s 875us/step - loss: 0.2050 - acc: 0.9141\n"
     ]
    }
   ],
   "source": [
    "X_pad, y = prepare_data(\"padded\")\n",
    "X_pad_train, X_pad_test, y_pad_train, y_pad_test = train_test_split(X_pad, y, test_size=0.1, random_state=42)\n",
    "y_pad_train_onehot = np_utils.to_categorical(y_pad_train, 2)\n",
    "y_pad_test_onehot = np_utils.to_categorical(y_pad_test, 2)\n",
    "\n",
    "pad_fit = cnn_pad.fit(X_pad_train, y_pad_train_onehot,\n",
    "          batch_size=batch_size,\n",
    "          epochs=epochs, shuffle=True,\n",
    "          verbose=1)"
   ]
  },
  {
   "cell_type": "code",
   "execution_count": 6,
   "metadata": {},
   "outputs": [
    {
     "name": "stdout",
     "output_type": "stream",
     "text": [
      "Test loss: 0.34229754490886377\n",
      "Test accuracy: 0.8564839837156201\n"
     ]
    },
    {
     "data": {
      "image/png": "[encoded data removed]",
      "text/plain": [
       "<matplotlib.figure.Figure at 0x2a373a99ba8>"
      ]
     },
     "metadata": {},
     "output_type": "display_data"
    }
   ],
   "source": [
    "score_pad = cnn_pad.evaluate(X_pad_test, y_pad_test_onehot, verbose=0)\n",
    "print('Test loss:', score_pad[0])\n",
    "print('Test accuracy:', score_pad[1])\n",
    "\n",
    "plt.plot(pad_fit.history['loss'])\n",
    "plt.xlabel('Epoch')\n",
    "plt.ylabel('Loss')\n",
    "plt.title('Simple CNN with padded imgs')\n",
    "plt.show()"
   ]
  },
  {
   "cell_type": "code",
   "execution_count": null,
   "metadata": {
    "ExecuteTime": {
     "end_time": "2018-02-19T17:44:34.330750Z",
     "start_time": "2018-02-19T17:35:29.522234Z"
    }
   },
   "outputs": [],
   "source": [
    "# for comparison with resized imgs\n",
    "X_inter, _ = prepare_data(\"resized\")\n",
    "X_inter_train, X_inter_test, y_inter_train, y_inter_test = train_test_split(X_inter, y, test_size=0.1, random_state=42)\n",
    "y_inter_train_onehot = np_utils.to_categorical(y_inter_train, 2)\n",
    "y_inter_test_onehot = np_utils.to_categorical(y_inter_test, 2)\n",
    "\n",
    "cnn_inter = create_CNN()\n",
    "inter_fit = cnn_inter.fit(X_inter_train, y_inter_train_onehot,\n",
    "          batch_size=batch_size,\n",
    "          epochs=epochs,\n",
    "          verbose=1)"
   ]
  },
  {
   "cell_type": "code",
   "execution_count": null,
   "metadata": {
    "ExecuteTime": {
     "end_time": "2018-02-19T17:44:36.250207Z",
     "start_time": "2018-02-19T17:44:34.335324Z"
    }
   },
   "outputs": [],
   "source": [
    "score_inter = cnn_inter.evaluate(X_inter_test, y_inter_test_onehot, verbose=0)\n",
    "print('Test accuracy:', score_inter[1])\n",
    "\n",
    "plt.plot(inter_fit.history['loss'])\n",
    "plt.xlabel('Epoch')\n",
    "plt.ylabel('Loss')\n",
    "plt.title('Simple CNN with interpolated imgs')\n",
    "plt.show()"
   ]
  }
 ],
 "metadata": {
  "kernelspec": {
   "display_name": "Python 3",
   "language": "python",
   "name": "python3"
  },
  "language_info": {
   "codemirror_mode": {
    "name": "ipython",
    "version": 3
   },
   "file_extension": ".py",
   "mimetype": "text/x-python",
   "name": "python",
   "nbconvert_exporter": "python",
   "pygments_lexer": "ipython3",
   "version": "3.6.3"
  }
 },
 "nbformat": 4,
 "nbformat_minor": 2
}
