{
 "cells": [
  {
   "cell_type": "code",
   "execution_count": 1,
   "metadata": {
    "ExecuteTime": {
     "end_time": "2018-02-19T17:24:39.947222Z",
     "start_time": "2018-02-19T17:24:39.762091Z"
    }
   },
   "outputs": [],
   "source": [
    "import glob\n",
    "import numpy as np\n",
    "import cv2"
   ]
  },
  {
   "cell_type": "code",
   "execution_count": 2,
   "metadata": {
    "ExecuteTime": {
     "end_time": "2018-02-19T17:24:42.994272Z",
     "start_time": "2018-02-19T17:24:39.949879Z"
    }
   },
   "outputs": [],
   "source": [
    "# reading data\n",
    "patches = glob.glob('./data/**/*.png', recursive=True)"
   ]
  },
  {
   "cell_type": "code",
   "execution_count": 3,
   "metadata": {
    "ExecuteTime": {
     "end_time": "2018-02-19T17:24:43.025926Z",
     "start_time": "2018-02-19T17:24:42.996632Z"
    }
   },
   "outputs": [],
   "source": [
    "def pad_data():\n",
    "    \"\"\" Pads images that are smaller than 50x50 with white colour\n",
    "        (decided against black because cancer parts are dark).\n",
    "        Saves images in a new folder\n",
    "    \"\"\"\n",
    "    WIDTH = 50\n",
    "    HEIGHT = 50\n",
    "    for img_name in patches:\n",
    "        image = cv2.imread(img_name)\n",
    "        orig_height, orig_width, _ = image.shape\n",
    "        path = \"./padded/\" + img_name[14:]\n",
    "        if (orig_height != 50 or orig_width != 50):\n",
    "            height_diff = HEIGHT - orig_height\n",
    "            width_diff = WIDTH - orig_width\n",
    "            top = height_diff // 2 # floor division\n",
    "            bottom = height_diff - top\n",
    "            left = width_diff // 2\n",
    "            right = width_diff - left\n",
    "            constant = cv2.copyMakeBorder(image, top, bottom, left, right, cv2.BORDER_CONSTANT, value=[255,255,255])\n",
    "            cv2.imwrite(path, constant)\n",
    "        else:\n",
    "            cv2.imwrite(path, image)"
   ]
  },
  {
   "cell_type": "code",
   "execution_count": 4,
   "metadata": {
    "ExecuteTime": {
     "end_time": "2018-02-19T17:24:43.036848Z",
     "start_time": "2018-02-19T17:24:43.028372Z"
    }
   },
   "outputs": [],
   "source": [
    "def resize_data():\n",
    "    \"\"\" Interpolates images smaller than 50x50\n",
    "        Saves images in a new folder\n",
    "    \"\"\"\n",
    "    WIDTH = 50\n",
    "    HEIGHT = 50\n",
    "    for img_name in patches:\n",
    "        image = cv2.imread(img_name)\n",
    "        path = \"./resized/\" + img_name[14:]\n",
    "        image_resized = cv2.resize(image, (WIDTH,HEIGHT), interpolation=cv2.INTER_CUBIC) \n",
    "        cv2.imwrite(path, image_resized)"
   ]
  },
  {
   "cell_type": "code",
   "execution_count": 5,
   "metadata": {
    "ExecuteTime": {
     "end_time": "2018-02-19T17:25:02.944287Z",
     "start_time": "2018-02-19T17:24:43.039480Z"
    }
   },
   "outputs": [],
   "source": [
    "pad_data()\n",
    "resize_data()"
   ]
  }
 ],
 "metadata": {
  "kernelspec": {
   "display_name": "Python 3",
   "language": "python",
   "name": "python3"
  },
  "language_info": {
   "codemirror_mode": {
    "name": "ipython",
    "version": 3
   },
   "file_extension": ".py",
   "mimetype": "text/x-python",
   "name": "python",
   "nbconvert_exporter": "python",
   "pygments_lexer": "ipython3",
   "version": "3.6.3"
  }
 },
 "nbformat": 4,
 "nbformat_minor": 2
}
