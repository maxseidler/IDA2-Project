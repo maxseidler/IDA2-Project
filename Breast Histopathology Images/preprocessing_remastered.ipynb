{
 "cells": [
  {
   "cell_type": "code",
   "execution_count": null,
   "metadata": {
    "ExecuteTime": {
     "end_time": "2018-02-15T19:09:05.655706Z",
     "start_time": "2018-02-15T19:09:05.498305Z"
    }
   },
   "outputs": [],
   "source": [
    "import glob\n",
    "import numpy as np\n",
    "import cv2"
   ]
  },
  {
   "cell_type": "code",
   "execution_count": null,
   "metadata": {
    "ExecuteTime": {
     "end_time": "2018-02-15T19:09:10.425103Z",
     "start_time": "2018-02-15T19:09:05.658848Z"
    }
   },
   "outputs": [],
   "source": [
    "# reading data\n",
    "patches = glob.glob('./data/**/*.png', recursive=True)\n",
    "class0 = []\n",
    "class1 = []\n",
    "for name in glob.glob('./data/**/*class0.png', recursive=True):\n",
    "    class0.append(name)\n",
    "for name in glob.glob('./data/**/*class1.png', recursive=True):\n",
    "    class1.append(name)"
   ]
  },
  {
   "cell_type": "code",
   "execution_count": null,
   "metadata": {
    "ExecuteTime": {
     "end_time": "2018-02-15T19:09:10.475371Z",
     "start_time": "2018-02-15T19:09:10.428074Z"
    }
   },
   "outputs": [],
   "source": [
    "def prepare_data_pad():\n",
    "    \"\"\" divides data into images and labels\n",
    "        pads images that are smaller than 50x50 with white (note: this isn't zero-padding,\n",
    "        decided against black, because cancer parts of the images are dark)\n",
    "        Min-Max scales all images \n",
    "    Returns:\n",
    "        scaled_X : array with padded images\n",
    "        y : array with corresponding labels\n",
    "        (0 for non-IDC, 1 for IDC)\n",
    "    \"\"\"\n",
    "    X = []\n",
    "    y = []\n",
    "    WIDTH = 50\n",
    "    HEIGHT = 50\n",
    "    for img_name in patches:\n",
    "        image = cv2.imread(img_name)\n",
    "        orig_height, orig_width, _ = image.shape\n",
    "        if (orig_height != 50 or orig_width != 50):\n",
    "            height_diff = HEIGHT - orig_height\n",
    "            width_diff = WIDTH - orig_width\n",
    "            top = height_diff // 2 # floor division\n",
    "            bottom = height_diff - top\n",
    "            left = width_diff // 2\n",
    "            right = width_diff - left\n",
    "            constant = cv2.copyMakeBorder(image, top, bottom, left, right, cv2.BORDER_CONSTANT, value=[255,255,255])\n",
    "            X.append(constant)\n",
    "        else:\n",
    "            X.append(image)\n",
    "        y.append(0) if img_name in class0 else y.append(1)\n",
    "    scaled_X = np.array(X)/255.0\n",
    "    return scaled_X, y"
   ]
  },
  {
   "cell_type": "code",
   "execution_count": null,
   "metadata": {
    "ExecuteTime": {
     "end_time": "2018-02-15T19:09:10.495435Z",
     "start_time": "2018-02-15T19:09:10.477840Z"
    }
   },
   "outputs": [],
   "source": [
    "def prepare_data_resize():\n",
    "    \"\"\" divide initial data into images and labels\n",
    "        Interpolates images smaller than 50x50\n",
    "        Min-Max scaling all images\n",
    "    Returns:\n",
    "        scaled_X : array with resized images\n",
    "        y : array with corresponding labels\n",
    "        (0: non-IDC, 1: IDC)\n",
    "    \"\"\"\n",
    "    X = []\n",
    "    y = []\n",
    "    WIDTH = 50\n",
    "    HEIGHT = 50\n",
    "    for img_name in patches:\n",
    "        image = cv2.imread(img_name)\n",
    "        image_resized = cv2.resize(image, (WIDTH,HEIGHT), interpolation=cv2.INTER_CUBIC) \n",
    "        X.append(image_resized)\n",
    "        if img_name in class0:\n",
    "            y.append(0)\n",
    "        else:\n",
    "            y.append(1)\n",
    "    scaled_X = np.array(X)/255.0\n",
    "    return scaled_X, y"
   ]
  },
  {
   "cell_type": "code",
   "execution_count": null,
   "metadata": {
    "ExecuteTime": {
     "end_time": "2018-02-15T19:09:30.937921Z",
     "start_time": "2018-02-15T19:09:10.501219Z"
    }
   },
   "outputs": [],
   "source": [
    "X_pad, y = prepare_data_pad()\n",
    "X_inter, _ = prepare_data_resize()\n",
    "np.save('padded_imgs.npy', X_pad) \n",
    "np.save('interpolated_imgs.npy', X_inter)\n",
    "np.save('labels.npy', y)"
   ]
  }
 ],
 "metadata": {
  "kernelspec": {
   "display_name": "Python 3",
   "language": "python",
   "name": "python3"
  },
  "language_info": {
   "codemirror_mode": {
    "name": "ipython",
    "version": 3
   },
   "file_extension": ".py",
   "mimetype": "text/x-python",
   "name": "python",
   "nbconvert_exporter": "python",
   "pygments_lexer": "ipython3",
   "version": "3.6.3"
  }
 },
 "nbformat": 4,
 "nbformat_minor": 2
}
