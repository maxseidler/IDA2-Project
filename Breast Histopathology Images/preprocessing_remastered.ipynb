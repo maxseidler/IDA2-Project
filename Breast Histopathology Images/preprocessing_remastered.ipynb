{
 "cells": [
  {
   "cell_type": "code",
   "execution_count": 1,
   "metadata": {
    "ExecuteTime": {
     "end_time": "2018-03-13T23:39:23.027495Z",
     "start_time": "2018-03-13T23:39:22.822642Z"
    }
   },
   "outputs": [],
   "source": [
    "import glob\n",
    "import numpy as np\n",
    "import cv2"
   ]
  },
  {
   "cell_type": "code",
   "execution_count": 2,
   "metadata": {
    "ExecuteTime": {
     "end_time": "2018-03-13T23:39:26.546281Z",
     "start_time": "2018-03-13T23:39:23.029697Z"
    }
   },
   "outputs": [],
   "source": [
    "# reading data\n",
    "patches = glob.glob('./data/**/*.png', recursive=True)"
   ]
  },
  {
   "cell_type": "code",
   "execution_count": 3,
   "metadata": {
    "ExecuteTime": {
     "end_time": "2018-03-13T23:39:26.577171Z",
     "start_time": "2018-03-13T23:39:26.548525Z"
    }
   },
   "outputs": [],
   "source": [
    "def pad_data():\n",
    "    \"\"\" Pads images that are smaller than 50x50 with zeros\n",
    "        Saves images in a new folder\n",
    "    \"\"\"\n",
    "    WIDTH = 50\n",
    "    HEIGHT = 50\n",
    "    for img_name in patches:\n",
    "        image = cv2.imread(img_name)\n",
    "        orig_height, orig_width, _ = image.shape\n",
    "        path = \"./padded/\" + img_name[14:]\n",
    "        if (orig_height != 50 or orig_width != 50):\n",
    "            height_diff = HEIGHT - orig_height\n",
    "            width_diff = WIDTH - orig_width\n",
    "            top = height_diff // 2 # floor division\n",
    "            bottom = height_diff - top\n",
    "            left = width_diff // 2\n",
    "            right = width_diff - left\n",
    "            constant = cv2.copyMakeBorder(image, top, bottom, left, right, cv2.BORDER_CONSTANT, value=[0,0,0])\n",
    "            cv2.imwrite(path, constant)\n",
    "        else:\n",
    "            cv2.imwrite(path, image)"
   ]
  },
  {
   "cell_type": "code",
   "execution_count": 5,
   "metadata": {
    "ExecuteTime": {
     "end_time": "2018-03-13T23:40:05.270597Z",
     "start_time": "2018-03-13T23:39:26.590950Z"
    }
   },
   "outputs": [],
   "source": [
    "pad_data()"
   ]
  },
  {
   "cell_type": "code",
   "execution_count": null,
   "metadata": {},
   "outputs": [],
   "source": []
  }
 ],
 "metadata": {
  "kernelspec": {
   "display_name": "Python 3",
   "language": "python",
   "name": "python3"
  },
  "language_info": {
   "codemirror_mode": {
    "name": "ipython",
    "version": 3
   },
   "file_extension": ".py",
   "mimetype": "text/x-python",
   "name": "python",
   "nbconvert_exporter": "python",
   "pygments_lexer": "ipython3",
   "version": "3.6.3"
  }
 },
 "nbformat": 4,
 "nbformat_minor": 2
}
