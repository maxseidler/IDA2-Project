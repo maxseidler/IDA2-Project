{
 "cells": [
  {
   "cell_type": "code",
   "execution_count": 1,
   "metadata": {
    "ExecuteTime": {
     "end_time": "2018-03-21T13:05:47.454707Z",
     "start_time": "2018-03-21T13:05:39.998608Z"
    }
   },
   "outputs": [],
   "source": [
    "# reading data\n",
    "import glob\n",
    "import cv2\n",
    "import numpy as np\n",
    "\n",
    "all_patches = glob.glob('./data/**/*.png', recursive=True)"
   ]
  },
  {
   "cell_type": "code",
   "execution_count": 2,
   "metadata": {
    "ExecuteTime": {
     "end_time": "2018-03-21T13:05:47.535871Z",
     "start_time": "2018-03-21T13:05:47.462186Z"
    }
   },
   "outputs": [
    {
     "name": "stdout",
     "output_type": "stream",
     "text": [
      "277524\n",
      "height: 30 width: 50 path: ./data/9036/0/9036_idx5_x1601_y2851_class0.png\n",
      "height: 30 width: 50 path: ./data/9036/0/9036_idx5_x701_y2851_class0.png\n"
     ]
    }
   ],
   "source": [
    "# exploring data\n",
    "print(len(all_patches))\n",
    "\n",
    "for img_name in all_patches[:50]:\n",
    "    img = cv2.imread(img_name)\n",
    "    height, width, _ = img.shape\n",
    "    if (height != 50 or width != 50):\n",
    "        print(\"height: {} width: {} path: {}\".format(height, width, img_name))"
   ]
  },
  {
   "cell_type": "code",
   "execution_count": 2,
   "metadata": {
    "ExecuteTime": {
     "end_time": "2018-03-20T14:51:34.220660Z",
     "start_time": "2018-03-20T14:46:44.218836Z"
    }
   },
   "outputs": [
    {
     "name": "stdout",
     "output_type": "stream",
     "text": [
      "2302\n"
     ]
    }
   ],
   "source": [
    "count = 0\n",
    "for img_name in all_patches:\n",
    "    img = cv2.imread(img_name)\n",
    "    height, width, _ = img.shape\n",
    "    if (height != 50 or width != 50):\n",
    "        count += 1\n",
    "print(count)"
   ]
  },
  {
   "cell_type": "code",
   "execution_count": 3,
   "metadata": {
    "ExecuteTime": {
     "end_time": "2018-03-21T13:06:15.521538Z",
     "start_time": "2018-03-21T13:06:12.266456Z"
    }
   },
   "outputs": [
    {
     "data": {
      "text/plain": [
       "<matplotlib.figure.Figure at 0x10f108b00>"
      ]
     },
     "metadata": {},
     "output_type": "display_data"
    }
   ],
   "source": [
    "from matplotlib import pyplot as plt\n",
    "    \n",
    "i = 0\n",
    "plt.figure(figsize=(10, 10))\n",
    "for img_name in all_patches[1260:1285]:\n",
    "    title = \"IDC\" if img_name.endswith('class1.png') else \"non-IDC\"\n",
    "    img = cv2.imread(img_name, 3)\n",
    "    plt.subplot(5, 5, i + 1).set_title(title)\n",
    "    plt.imshow(cv2.cvtColor(img, cv2.COLOR_BGR2RGB))\n",
    "    plt.axis('off')\n",
    "    i += 1\n",
    "plt.show()"
   ]
  },
  {
   "cell_type": "code",
   "execution_count": 6,
   "metadata": {
    "ExecuteTime": {
     "end_time": "2018-03-21T13:09:27.705860Z",
     "start_time": "2018-03-21T13:09:27.364678Z"
    }
   },
   "outputs": [
    {
     "data": {
      "text/plain": [
       "(-0.5, 49.5, 49.5, -0.5)"
      ]
     },
     "execution_count": 6,
     "metadata": {},
     "output_type": "execute_result"
    },
    {
     "data": {
      "image/png": "[encoded data removed]",
      "text/plain": [
       "<matplotlib.figure.Figure at 0x119cc7550>"
      ]
     },
     "metadata": {},
     "output_type": "display_data"
    }
   ],
   "source": [
    "img = cv2.imread('./data/9036/0/9036_idx5_x1601_y2851_class0.png')\n",
    "img_resized = cv2.resize(img, (50,50)) # default interpolation: INTER_LINEAR\n",
    "fig, (ax1, ax2) = plt.subplots(1, 2)\n",
    "ax1.imshow(cv2.cvtColor(img, cv2.COLOR_BGR2RGB))\n",
    "ax1.axis('off')\n",
    "ax2.imshow(cv2.cvtColor(img_resized, cv2.COLOR_BGR2RGB))\n",
    "ax2.axis('off')"
   ]
  },
  {
   "cell_type": "code",
   "execution_count": 46,
   "metadata": {
    "ExecuteTime": {
     "end_time": "2018-03-20T15:57:10.772876Z",
     "start_time": "2018-03-20T15:57:00.958202Z"
    }
   },
   "outputs": [],
   "source": [
    "# preprocessing\n",
    "\n",
    "class0 = []\n",
    "class1 = []\n",
    "for name in glob.glob('./data/**/*class0.png', recursive=True):\n",
    "    class0.append(name)\n",
    "for name in glob.glob('./data/**/*class1.png', recursive=True):\n",
    "    class1.append(name)\n"
   ]
  },
  {
   "cell_type": "code",
   "execution_count": 6,
   "metadata": {
    "ExecuteTime": {
     "end_time": "2018-02-15T12:26:23.128843Z",
     "start_time": "2018-02-15T12:26:23.124374Z"
    }
   },
   "outputs": [
    {
     "name": "stdout",
     "output_type": "stream",
     "text": [
      "['./data/9036/0/9036_idx5_x1051_y2401_class0.png', './data/9036/0/9036_idx5_x2951_y951_class0.png', './data/9036/0/9036_idx5_x3001_y1451_class0.png', './data/9036/0/9036_idx5_x3051_y801_class0.png', './data/9036/0/9036_idx5_x951_y1901_class0.png']\n",
      "['./data/9036/1/9036_idx5_x1851_y1351_class1.png', './data/9036/1/9036_idx5_x1851_y1451_class1.png', './data/9036/1/9036_idx5_x1751_y1601_class1.png', './data/9036/1/9036_idx5_x1801_y1501_class1.png', './data/9036/1/9036_idx5_x1801_y1201_class1.png']\n"
     ]
    }
   ],
   "source": [
    "print(class0[:5])\n",
    "print(class1[:5])"
   ]
  },
  {
   "cell_type": "code",
   "execution_count": 33,
   "metadata": {
    "ExecuteTime": {
     "end_time": "2018-02-15T14:36:21.910105Z",
     "start_time": "2018-02-15T14:36:21.896251Z"
    }
   },
   "outputs": [],
   "source": [
    "def prepare_data_resize(patches):\n",
    "    \"\"\" divide initial data into images and labels\n",
    "    Args: \n",
    "        patches: list of file path names\n",
    "    Returns:\n",
    "        array with resized images, array with corresponding labels\n",
    "        (0: non-IDC, 1: IDC)\n",
    "    \"\"\"\n",
    "    X = []\n",
    "    y = []\n",
    "    WIDTH = 50\n",
    "    HEIGHT = 50\n",
    "    for img_name in patches:\n",
    "        image = cv2.imread(img_name)\n",
    "        image_resized = cv2.resize(image, (WIDTH,HEIGHT), interpolation=cv2.INTER_CUBIC) # TODO: interpolation?\n",
    "        X.append(image_resized)\n",
    "        if img_name in class0:\n",
    "            y.append(0)\n",
    "        else:\n",
    "            y.append(1)\n",
    "    return X, y"
   ]
  },
  {
   "cell_type": "code",
   "execution_count": 47,
   "metadata": {
    "ExecuteTime": {
     "end_time": "2018-03-20T15:57:25.580036Z",
     "start_time": "2018-03-20T15:57:25.521355Z"
    }
   },
   "outputs": [],
   "source": [
    "def prepare_data_pad(patches):\n",
    "    \"\"\" divide initial data into images and labels\n",
    "    Args: \n",
    "        patches: list of file path names\n",
    "    Returns:\n",
    "        array with padded images, array with corresponding labels\n",
    "        (0: non-IDC, 1: IDC)\n",
    "    \"\"\"\n",
    "    X = []\n",
    "    y = []\n",
    "    WIDTH = 50\n",
    "    HEIGHT = 50\n",
    "    #i = 0\n",
    "    for img_name in patches:\n",
    "        image = cv2.imread(img_name)\n",
    "        orig_height, orig_width, _ = image.shape\n",
    "        if (orig_height != 50 or orig_width != 50):\n",
    "            #print(i)\n",
    "            height_diff = HEIGHT - orig_height\n",
    "            width_diff = WIDTH - orig_width\n",
    "            \n",
    "            top = height_diff // 2 # floor division\n",
    "            bottom = height_diff - top\n",
    "            left = width_diff // 2\n",
    "            right = width_diff - left\n",
    "            \n",
    "            constant = cv2.copyMakeBorder(image, top, bottom, left, right, cv2.BORDER_CONSTANT, value=[0,0,0])\n",
    "            X.append(constant)\n",
    "        else:\n",
    "            X.append(image)\n",
    "        y.append(0) if img_name in class0 else y.append(1)\n",
    "        #i += 1\n",
    "    return X, y"
   ]
  },
  {
   "cell_type": "code",
   "execution_count": 48,
   "metadata": {
    "ExecuteTime": {
     "end_time": "2018-03-20T15:57:50.946294Z",
     "start_time": "2018-03-20T15:57:27.423666Z"
    }
   },
   "outputs": [],
   "source": [
    "X_padded, y_padded = prepare_data_pad(all_patches[0:10000]) "
   ]
  },
  {
   "cell_type": "code",
   "execution_count": 52,
   "metadata": {
    "ExecuteTime": {
     "end_time": "2018-02-15T15:41:05.825383Z",
     "start_time": "2018-02-15T15:41:05.792666Z"
    }
   },
   "outputs": [],
   "source": [
    "imgs0_pad = [X_padded[i] for i in range(len(X_padded)) if y_padded[i]==0]\n",
    "imgs1_pad = [X_padded[i] for i in range(len(X_padded)) if y_padded[i]==1]"
   ]
  },
  {
   "cell_type": "code",
   "execution_count": 62,
   "metadata": {
    "ExecuteTime": {
     "end_time": "2018-03-20T16:32:44.465642Z",
     "start_time": "2018-03-20T16:32:44.326351Z"
    }
   },
   "outputs": [
    {
     "data": {
      "text/plain": [
       "(-0.5, 49.5, 49.5, -0.5)"
      ]
     },
     "execution_count": 62,
     "metadata": {},
     "output_type": "execute_result"
    },
    {
     "data": {
      "image/png": "[encoded data removed]",
      "text/plain": [
       "<matplotlib.figure.Figure at 0x115104b00>"
      ]
     },
     "metadata": {},
     "output_type": "display_data"
    }
   ],
   "source": [
    "img = cv2.imread(all_patches[1270])\n",
    "fig, (ax1, ax2) = plt.subplots(1, 2)\n",
    "ax1.imshow(cv2.cvtColor(img, cv2.COLOR_BGR2RGB))\n",
    "ax1.axis('off')\n",
    "ax2.imshow(cv2.cvtColor(X_padded[1270], cv2.COLOR_BGR2RGB))\n",
    "plt.axis('off')"
   ]
  },
  {
   "cell_type": "code",
   "execution_count": 54,
   "metadata": {
    "ExecuteTime": {
     "end_time": "2018-02-15T15:42:01.111904Z",
     "start_time": "2018-02-15T15:42:00.519118Z"
    }
   },
   "outputs": [],
   "source": [
    "scaled_X_pad = np.array(X_padded)/255.0 # Min-Max Scaling\n",
    "imgs0_pad_scaled = [scaled_X_pad[i] for i in range(len(scaled_X_pad)) if y_padded[i]==0]\n",
    "imgs1_pad_scaled = [scaled_X_pad[i] for i in range(len(scaled_X_pad)) if y_padded[i]==1]"
   ]
  },
  {
   "cell_type": "code",
   "execution_count": 34,
   "metadata": {
    "ExecuteTime": {
     "end_time": "2018-02-15T14:36:35.724960Z",
     "start_time": "2018-02-15T14:36:25.680490Z"
    }
   },
   "outputs": [],
   "source": [
    "X, y = prepare_data_resize(all_patches[0:10000]) # playing around with small data size because TIME"
   ]
  },
  {
   "cell_type": "code",
   "execution_count": 35,
   "metadata": {
    "ExecuteTime": {
     "end_time": "2018-02-15T14:36:39.503061Z",
     "start_time": "2018-02-15T14:36:39.489433Z"
    }
   },
   "outputs": [
    {
     "name": "stdout",
     "output_type": "stream",
     "text": [
      "Number of images: 10000\n",
      "Non-IDC: 8596\n",
      "IDC: 1404\n"
     ]
    }
   ],
   "source": [
    "# statistics \n",
    "print(\"Number of images: {}\".format(len(X)))\n",
    "imgs0 = [X[i] for i in range(len(X)) if y[i]==0]\n",
    "imgs1 = [X[i] for i in range(len(X)) if y[i]==1]\n",
    "print(\"Non-IDC: {}\".format(len(imgs0)))\n",
    "print(\"IDC: {}\".format(len(imgs1)))"
   ]
  },
  {
   "cell_type": "code",
   "execution_count": 36,
   "metadata": {
    "ExecuteTime": {
     "end_time": "2018-02-15T14:36:41.492171Z",
     "start_time": "2018-02-15T14:36:41.320007Z"
    }
   },
   "outputs": [
    {
     "data": {
      "text/plain": [
       "(-0.5, 49.5, 49.5, -0.5)"
      ]
     },
     "execution_count": 36,
     "metadata": {},
     "output_type": "execute_result"
    },
    {
     "data": {
      "image/png": "[encoded data removed]",
      "text/plain": [
       "<matplotlib.figure.Figure at 0x116d7e0b8>"
      ]
     },
     "metadata": {},
     "output_type": "display_data"
    }
   ],
   "source": [
    "fig, (ax1, ax2) = plt.subplots(1, 2)\n",
    "ax1.set_title('non-IDC')\n",
    "ax1.imshow(imgs0[1])\n",
    "ax1.set_axis('off')\n",
    "ax2.set_title('IDC')\n",
    "ax2.imshow(imgs1[1])\n",
    "ax2.set_axis('off')"
   ]
  },
  {
   "cell_type": "code",
   "execution_count": 38,
   "metadata": {
    "ExecuteTime": {
     "end_time": "2018-02-15T14:37:07.421198Z",
     "start_time": "2018-02-15T14:37:06.282154Z"
    }
   },
   "outputs": [
    {
     "name": "stdout",
     "output_type": "stream",
     "text": [
      "Pixel values before scaling in range from 0 to 255\n",
      "Pixel values after scaling in range from 0.0 to 1.0\n"
     ]
    }
   ],
   "source": [
    "# TODO: put scaling inside prepare_data function\n",
    "max_val = max(map(lambda x: np.max(x), X))\n",
    "min_val = min(map(lambda x: np.min(x), X))\n",
    "print(\"Pixel values before scaling in range from {} to {}\".format(min_val, max_val))\n",
    "\n",
    "scaled_X = np.array(X)/255.0 # Min-Max Scaling\n",
    "max_val_scaled = max(map(lambda x: np.max(x), scaled_X))\n",
    "min_val_scaled = min(map(lambda x: np.min(x), scaled_X))\n",
    "print(\"Pixel values after scaling in range from {} to {}\".format(min_val_scaled, max_val_scaled))"
   ]
  },
  {
   "cell_type": "code",
   "execution_count": 39,
   "metadata": {
    "ExecuteTime": {
     "end_time": "2018-02-15T14:37:14.540078Z",
     "start_time": "2018-02-15T14:37:14.529270Z"
    }
   },
   "outputs": [],
   "source": [
    "imgs0_scaled = [scaled_X[i] for i in range(len(scaled_X)) if y[i]==0]\n",
    "imgs1_scaled = [scaled_X[i] for i in range(len(scaled_X)) if y[i]==1]"
   ]
  },
  {
   "cell_type": "code",
   "execution_count": null,
   "metadata": {},
   "outputs": [],
   "source": []
  }
 ],
 "metadata": {
  "kernelspec": {
   "display_name": "Python 3",
   "language": "python",
   "name": "python3"
  },
  "language_info": {
   "codemirror_mode": {
    "name": "ipython",
    "version": 3
   },
   "file_extension": ".py",
   "mimetype": "text/x-python",
   "name": "python",
   "nbconvert_exporter": "python",
   "pygments_lexer": "ipython3",
   "version": "3.6.3"
  }
 },
 "nbformat": 4,
 "nbformat_minor": 2
}
