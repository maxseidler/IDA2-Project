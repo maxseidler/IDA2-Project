{
 "cells": [
  {
   "cell_type": "code",
   "execution_count": 1,
   "metadata": {
    "ExecuteTime": {
     "end_time": "2018-02-13T17:53:13.758306Z",
     "start_time": "2018-02-13T17:52:52.553486Z"
    }
   },
   "outputs": [
    {
     "name": "stdout",
     "output_type": "stream",
     "text": [
      "277524\n",
      "height: 30 width: 50 path: ./data/9036/0/9036_idx5_x1601_y2851_class0.png\n",
      "height: 30 width: 50 path: ./data/9036/0/9036_idx5_x701_y2851_class0.png\n",
      "['./data/9036/0/9036_idx5_x1051_y2401_class0.png', './data/9036/0/9036_idx5_x2951_y951_class0.png', './data/9036/0/9036_idx5_x3001_y1451_class0.png', './data/9036/0/9036_idx5_x3051_y801_class0.png', './data/9036/0/9036_idx5_x951_y1901_class0.png']\n",
      "['./data/9036/1/9036_idx5_x1851_y1351_class1.png', './data/9036/1/9036_idx5_x1851_y1451_class1.png', './data/9036/1/9036_idx5_x1751_y1601_class1.png', './data/9036/1/9036_idx5_x1801_y1501_class1.png', './data/9036/1/9036_idx5_x1801_y1201_class1.png']\n",
      "Number of images: 10000\n",
      "Non-IDC: 8596\n",
      "IDC: 1404\n",
      "Pixel values in range from 0 to 255\n"
     ]
    },
    {
     "name": "stderr",
     "output_type": "stream",
     "text": [
      "/Users/mstazherova/miniconda3/lib/python3.6/site-packages/matplotlib/cbook/deprecation.py:106: MatplotlibDeprecationWarning: Adding an axes using the same arguments as a previous axes currently reuses the earlier instance.  In a future version, a new instance will always be created and returned.  Meanwhile, this warning can be suppressed, and the future behavior ensured, by passing a unique label to each axes instance.\n",
      "  warnings.warn(message, mplDeprecation, stacklevel=1)\n"
     ]
    }
   ],
   "source": [
    "%run -i 'first_try.ipynb'"
   ]
  },
  {
   "cell_type": "code",
   "execution_count": 2,
   "metadata": {
    "ExecuteTime": {
     "end_time": "2018-02-13T17:53:16.484533Z",
     "start_time": "2018-02-13T17:53:13.760849Z"
    }
   },
   "outputs": [
    {
     "name": "stderr",
     "output_type": "stream",
     "text": [
      "Using TensorFlow backend.\n"
     ]
    }
   ],
   "source": [
    "from keras.models import Sequential\n",
    "from keras.layers import Dense, Dropout, Activation, Flatten\n",
    "from keras.layers import Conv2D, MaxPooling2D\n",
    "from keras.utils import np_utils\n",
    "\n",
    "from sklearn.model_selection import train_test_split\n",
    "import numpy as np"
   ]
  },
  {
   "cell_type": "code",
   "execution_count": 3,
   "metadata": {
    "ExecuteTime": {
     "end_time": "2018-02-13T17:53:16.942832Z",
     "start_time": "2018-02-13T17:53:16.486618Z"
    }
   },
   "outputs": [],
   "source": [
    "X_train, X_test, y_train, y_test = train_test_split(scaled_X, y, test_size=0.1, random_state=42)"
   ]
  },
  {
   "cell_type": "code",
   "execution_count": 4,
   "metadata": {
    "ExecuteTime": {
     "end_time": "2018-02-13T17:53:16.950871Z",
     "start_time": "2018-02-13T17:53:16.945134Z"
    }
   },
   "outputs": [
    {
     "name": "stdout",
     "output_type": "stream",
     "text": [
      "(9000, 50, 50, 3)\n"
     ]
    }
   ],
   "source": [
    "print(X_train.shape)"
   ]
  },
  {
   "cell_type": "code",
   "execution_count": 5,
   "metadata": {
    "ExecuteTime": {
     "end_time": "2018-02-13T17:53:17.205557Z",
     "start_time": "2018-02-13T17:53:16.955516Z"
    }
   },
   "outputs": [
    {
     "data": {
      "image/png": "[encoded data removed]",
      "text/plain": [
       "<matplotlib.figure.Figure at 0x1a55cb2dd8>"
      ]
     },
     "metadata": {},
     "output_type": "display_data"
    }
   ],
   "source": [
    "def plot_label_distr(y, title, ax):\n",
    "    ax.hist(y, bins=range(0,3), facecolor='y', align = 'left', rwidth=0.8)\n",
    "    ax.set_xlabel('Class')\n",
    "    ax.set_ylabel('Count')\n",
    "    ax.set_title(title)\n",
    "    ax.set_xticks(range(2))\n",
    "\n",
    "f, (ax1, ax2) = plt.subplots(1, 2, sharey=False, figsize=(10, 4))\n",
    "plot_label_distr(y_train, \"Train distribution\", ax1)\n",
    "plot_label_distr(y_test, \"Test distribution\", ax2)"
   ]
  },
  {
   "cell_type": "code",
   "execution_count": 6,
   "metadata": {
    "ExecuteTime": {
     "end_time": "2018-02-13T17:53:17.219103Z",
     "start_time": "2018-02-13T17:53:17.209584Z"
    }
   },
   "outputs": [
    {
     "name": "stdout",
     "output_type": "stream",
     "text": [
      "(9000, 2)\n"
     ]
    }
   ],
   "source": [
    "y_train_onehot = np_utils.to_categorical(y_train, 2)\n",
    "y_test_onehot = np_utils.to_categorical(y_test, 2)\n",
    "print(y_train_onehot.shape)"
   ]
  },
  {
   "cell_type": "code",
   "execution_count": 7,
   "metadata": {
    "ExecuteTime": {
     "end_time": "2018-02-13T17:53:17.364612Z",
     "start_time": "2018-02-13T17:53:17.222035Z"
    }
   },
   "outputs": [
    {
     "name": "stdout",
     "output_type": "stream",
     "text": [
      "_________________________________________________________________\n",
      "Layer (type)                 Output Shape              Param #   \n",
      "=================================================================\n",
      "conv2d_1 (Conv2D)            (None, 46, 46, 32)        2432      \n",
      "_________________________________________________________________\n",
      "max_pooling2d_1 (MaxPooling2 (None, 23, 23, 32)        0         \n",
      "_________________________________________________________________\n",
      "conv2d_2 (Conv2D)            (None, 19, 19, 64)        51264     \n",
      "_________________________________________________________________\n",
      "max_pooling2d_2 (MaxPooling2 (None, 9, 9, 64)          0         \n",
      "_________________________________________________________________\n",
      "flatten_1 (Flatten)          (None, 5184)              0         \n",
      "_________________________________________________________________\n",
      "dense_1 (Dense)              (None, 1000)              5185000   \n",
      "_________________________________________________________________\n",
      "dense_2 (Dense)              (None, 2)                 2002      \n",
      "=================================================================\n",
      "Total params: 5,240,698\n",
      "Trainable params: 5,240,698\n",
      "Non-trainable params: 0\n",
      "_________________________________________________________________\n"
     ]
    }
   ],
   "source": [
    "def simpleCNN():\n",
    "    input_shape = (50, 50, 3)\n",
    "    num_classes = 2\n",
    "    \n",
    "    model = Sequential()\n",
    "    model.add(Conv2D(32, kernel_size=(5, 5), activation='relu', input_shape=input_shape)) # strides=(1, 1) default\n",
    "    model.add(MaxPooling2D(pool_size=(2, 2)))\n",
    "    model.add(Conv2D(64, (5, 5), activation='relu'))\n",
    "    model.add(MaxPooling2D(pool_size=(2, 2)))\n",
    "    #model.add(Dropout(0.1))\n",
    "    model.add(Flatten())\n",
    "    model.add(Dense(1000, activation='relu'))\n",
    "    model.add(Dense(num_classes, activation='softmax'))\n",
    "    \n",
    "    model.compile(loss='categorical_crossentropy', optimizer='adam', metrics=['accuracy'])\n",
    "    return model\n",
    "\n",
    "cnn = simpleCNN()\n",
    "cnn.summary()"
   ]
  },
  {
   "cell_type": "code",
   "execution_count": 8,
   "metadata": {
    "ExecuteTime": {
     "end_time": "2018-02-13T18:01:34.551734Z",
     "start_time": "2018-02-13T17:53:17.372349Z"
    }
   },
   "outputs": [
    {
     "name": "stdout",
     "output_type": "stream",
     "text": [
      "Epoch 1/10\n",
      "9000/9000 [==============================] - 54s 6ms/step - loss: 0.3626 - acc: 0.8520\n",
      "Epoch 2/10\n",
      "9000/9000 [==============================] - 53s 6ms/step - loss: 0.3180 - acc: 0.8661\n",
      "Epoch 3/10\n",
      "9000/9000 [==============================] - 56s 6ms/step - loss: 0.2923 - acc: 0.8781\n",
      "Epoch 4/10\n",
      "9000/9000 [==============================] - 49s 5ms/step - loss: 0.2675 - acc: 0.8939\n",
      "Epoch 5/10\n",
      "9000/9000 [==============================] - 47s 5ms/step - loss: 0.2614 - acc: 0.8918\n",
      "Epoch 6/10\n",
      "9000/9000 [==============================] - 44s 5ms/step - loss: 0.2565 - acc: 0.8956\n",
      "Epoch 7/10\n",
      "9000/9000 [==============================] - 57s 6ms/step - loss: 0.2416 - acc: 0.9057\n",
      "Epoch 8/10\n",
      "9000/9000 [==============================] - 49s 5ms/step - loss: 0.2389 - acc: 0.9071\n",
      "Epoch 9/10\n",
      "9000/9000 [==============================] - 43s 5ms/step - loss: 0.2324 - acc: 0.9100\n",
      "Epoch 10/10\n",
      "9000/9000 [==============================] - 45s 5ms/step - loss: 0.2443 - acc: 0.9067\n"
     ]
    }
   ],
   "source": [
    "#from keras.callbacks import History \n",
    "#history = History()\n",
    "\n",
    "epochs = 10\n",
    "batch_size = 128\n",
    "\n",
    "learn_cnn = cnn.fit(X_train, y_train_onehot,\n",
    "          batch_size=batch_size,\n",
    "          epochs=epochs,\n",
    "          verbose=1)\n",
    "          # callbacks=[history])"
   ]
  },
  {
   "cell_type": "code",
   "execution_count": 9,
   "metadata": {
    "ExecuteTime": {
     "end_time": "2018-02-13T18:01:36.264008Z",
     "start_time": "2018-02-13T18:01:34.556290Z"
    }
   },
   "outputs": [
    {
     "name": "stdout",
     "output_type": "stream",
     "text": [
      "Test accuracy: 0.891\n"
     ]
    }
   ],
   "source": [
    "score = cnn.evaluate(X_test, y_test_onehot, verbose=0)\n",
    "print('Test accuracy:', score[1])"
   ]
  },
  {
   "cell_type": "code",
   "execution_count": 10,
   "metadata": {
    "ExecuteTime": {
     "end_time": "2018-02-13T18:01:36.392900Z",
     "start_time": "2018-02-13T18:01:36.269158Z"
    }
   },
   "outputs": [
    {
     "data": {
      "image/png": "[encoded data removed]",
      "text/plain": [
       "<matplotlib.figure.Figure at 0x1a76f0dd68>"
      ]
     },
     "metadata": {},
     "output_type": "display_data"
    }
   ],
   "source": [
    "plt.plot(learn_cnn.history['loss'])\n",
    "plt.xlabel('Epoch')\n",
    "plt.ylabel('Loss')\n",
    "plt.title('Simple CNN')\n",
    "plt.show()"
   ]
  },
  {
   "cell_type": "code",
   "execution_count": 31,
   "metadata": {
    "ExecuteTime": {
     "end_time": "2018-02-13T18:10:26.935101Z",
     "start_time": "2018-02-13T18:10:26.823481Z"
    }
   },
   "outputs": [
    {
     "name": "stdout",
     "output_type": "stream",
     "text": [
      "_________________________________________________________________\n",
      "Layer (type)                 Output Shape              Param #   \n",
      "=================================================================\n",
      "flatten_9 (Flatten)          (None, 7500)              0         \n",
      "_________________________________________________________________\n",
      "dense_22 (Dense)             (None, 512)               3840512   \n",
      "_________________________________________________________________\n",
      "dropout_11 (Dropout)         (None, 512)               0         \n",
      "_________________________________________________________________\n",
      "dense_23 (Dense)             (None, 512)               262656    \n",
      "_________________________________________________________________\n",
      "dropout_12 (Dropout)         (None, 512)               0         \n",
      "_________________________________________________________________\n",
      "dense_24 (Dense)             (None, 2)                 1026      \n",
      "=================================================================\n",
      "Total params: 4,104,194\n",
      "Trainable params: 4,104,194\n",
      "Non-trainable params: 0\n",
      "_________________________________________________________________\n"
     ]
    }
   ],
   "source": [
    "def mlp():\n",
    "    input_shape = (50, 50, 3)\n",
    "    num_classes = 2\n",
    "    \n",
    "    mlp = Sequential()\n",
    "    mlp.add(Flatten(input_shape=input_shape))\n",
    "    mlp.add(Dense(512, activation='relu'))\n",
    "    mlp.add(Dropout(0.4))\n",
    "    mlp.add(Dense(512, activation='relu'))\n",
    "    mlp.add(Dropout(0.2))\n",
    "    mlp.add(Dense(num_classes, activation='softmax'))\n",
    "\n",
    "    mlp.compile(loss='categorical_crossentropy', optimizer='sgd', metrics=['accuracy'])\n",
    "    return mlp\n",
    "\n",
    "mlp = mlp()\n",
    "mlp.summary()"
   ]
  },
  {
   "cell_type": "code",
   "execution_count": 32,
   "metadata": {
    "ExecuteTime": {
     "end_time": "2018-02-13T18:11:09.724206Z",
     "start_time": "2018-02-13T18:10:27.996903Z"
    }
   },
   "outputs": [
    {
     "name": "stdout",
     "output_type": "stream",
     "text": [
      "Epoch 1/10\n",
      "9000/9000 [==============================] - 4s 490us/step - loss: 0.4162 - acc: 0.8551\n",
      "Epoch 2/10\n",
      "9000/9000 [==============================] - 4s 471us/step - loss: 0.3789 - acc: 0.8600\n",
      "Epoch 3/10\n",
      "9000/9000 [==============================] - 4s 459us/step - loss: 0.3739 - acc: 0.8601\n",
      "Epoch 4/10\n",
      "9000/9000 [==============================] - 4s 473us/step - loss: 0.3669 - acc: 0.8601\n",
      "Epoch 5/10\n",
      "9000/9000 [==============================] - 4s 462us/step - loss: 0.3589 - acc: 0.8602\n",
      "Epoch 6/10\n",
      "9000/9000 [==============================] - 4s 447us/step - loss: 0.3605 - acc: 0.8601\n",
      "Epoch 7/10\n",
      "9000/9000 [==============================] - 4s 451us/step - loss: 0.3543 - acc: 0.8601\n",
      "Epoch 8/10\n",
      "9000/9000 [==============================] - 4s 447us/step - loss: 0.3489 - acc: 0.8616\n",
      "Epoch 9/10\n",
      "9000/9000 [==============================] - 4s 457us/step - loss: 0.3565 - acc: 0.8612\n",
      "Epoch 10/10\n",
      "9000/9000 [==============================] - 4s 456us/step - loss: 0.3406 - acc: 0.8622\n"
     ]
    }
   ],
   "source": [
    "learn_mlp = mlp.fit(X_train,y_train_onehot,\n",
    "                          batch_size=128,\n",
    "                          epochs=10)"
   ]
  },
  {
   "cell_type": "code",
   "execution_count": 33,
   "metadata": {
    "ExecuteTime": {
     "end_time": "2018-02-13T18:11:14.501720Z",
     "start_time": "2018-02-13T18:11:14.072821Z"
    }
   },
   "outputs": [
    {
     "name": "stdout",
     "output_type": "stream",
     "text": [
      "Test accuracy: 0.857\n"
     ]
    },
    {
     "data": {
      "image/png": "[encoded data removed]",
      "text/plain": [
       "<matplotlib.figure.Figure at 0x1a8dc8bdd8>"
      ]
     },
     "metadata": {},
     "output_type": "display_data"
    }
   ],
   "source": [
    "score_mlp = mlp.evaluate(X_test, y_test_onehot, verbose=0)\n",
    "print('Test accuracy:', score_mlp[1])\n",
    "plt.plot(learn_mlp.history['loss'])\n",
    "plt.xlabel('Epoch')\n",
    "plt.ylabel('Loss')\n",
    "plt.title('MLP')\n",
    "plt.show()"
   ]
  },
  {
   "cell_type": "code",
   "execution_count": null,
   "metadata": {},
   "outputs": [],
   "source": []
  }
 ],
 "metadata": {
  "kernelspec": {
   "display_name": "Python 3",
   "language": "python",
   "name": "python3"
  },
  "language_info": {
   "codemirror_mode": {
    "name": "ipython",
    "version": 3
   },
   "file_extension": ".py",
   "mimetype": "text/x-python",
   "name": "python",
   "nbconvert_exporter": "python",
   "pygments_lexer": "ipython3",
   "version": "3.6.3"
  }
 },
 "nbformat": 4,
 "nbformat_minor": 2
}
