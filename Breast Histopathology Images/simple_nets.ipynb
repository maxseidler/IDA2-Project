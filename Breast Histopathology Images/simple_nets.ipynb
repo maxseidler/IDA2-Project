{
 "cells": [
  {
   "cell_type": "code",
   "execution_count": null,
   "metadata": {
    "ExecuteTime": {
     "end_time": "2018-02-15T19:32:00.667970Z",
     "start_time": "2018-02-15T19:32:00.374139Z"
    }
   },
   "outputs": [],
   "source": [
    "from keras.models import Sequential\n",
    "from keras.layers import Dense, Dropout, Flatten\n",
    "from keras.layers import Conv2D, MaxPooling2D\n",
    "from keras.utils import np_utils\n",
    "\n",
    "from sklearn.model_selection import train_test_split\n",
    "\n",
    "import numpy as np\n",
    "from matplotlib import pyplot as plt"
   ]
  },
  {
   "cell_type": "code",
   "execution_count": null,
   "metadata": {
    "ExecuteTime": {
     "end_time": "2018-02-15T19:20:35.935771Z",
     "start_time": "2018-02-15T19:20:34.403832Z"
    }
   },
   "outputs": [],
   "source": [
    "X_pad = np.load('padded_imgs.npy') \n",
    "X_inter = np.load('interpolated_imgs.npy')\n",
    "y = np.load('labels.npy')"
   ]
  },
  {
   "cell_type": "code",
   "execution_count": null,
   "metadata": {
    "ExecuteTime": {
     "end_time": "2018-02-15T19:20:37.543695Z",
     "start_time": "2018-02-15T19:20:35.938049Z"
    }
   },
   "outputs": [],
   "source": [
    "X_pad_train, X_pad_test, y_pad_train, y_pad_test = train_test_split(X_pad, y, test_size=0.1, random_state=42)\n",
    "X_inter_train, X_inter_test, y_inter_train, y_inter_test = train_test_split(X_inter, y, test_size=0.1, random_state=42)"
   ]
  },
  {
   "cell_type": "code",
   "execution_count": null,
   "metadata": {
    "ExecuteTime": {
     "end_time": "2018-02-15T19:20:37.564359Z",
     "start_time": "2018-02-15T19:20:37.547269Z"
    }
   },
   "outputs": [],
   "source": [
    "y_pad_train_onehot = np_utils.to_categorical(y_pad_train, 2)\n",
    "y_pad_test_onehot = np_utils.to_categorical(y_pad_test, 2)\n",
    "y_inter_train_onehot = np_utils.to_categorical(y_inter_train, 2)\n",
    "y_inter_test_onehot = np_utils.to_categorical(y_inter_test, 2)"
   ]
  },
  {
   "cell_type": "code",
   "execution_count": null,
   "metadata": {
    "ExecuteTime": {
     "end_time": "2018-02-15T19:20:37.597092Z",
     "start_time": "2018-02-15T19:20:37.571028Z"
    }
   },
   "outputs": [],
   "source": [
    "def create_CNN():\n",
    "    input_shape = (50, 50, 3)\n",
    "    num_classes = 2\n",
    "    \n",
    "    model = Sequential()\n",
    "    model.add(Conv2D(32, kernel_size=(5, 5), activation='relu', input_shape=input_shape)) # strides=(1, 1) default\n",
    "    model.add(MaxPooling2D(pool_size=(2, 2)))\n",
    "    model.add(Conv2D(64, (5, 5), activation='relu'))\n",
    "    model.add(MaxPooling2D(pool_size=(2, 2)))\n",
    "    model.add(Dropout(0.1))\n",
    "    model.add(Flatten())\n",
    "    model.add(Dense(1000, activation='relu'))\n",
    "    model.add(Dense(num_classes, activation='softmax'))\n",
    "    \n",
    "    model.compile(loss='categorical_crossentropy', optimizer='adam', metrics=['accuracy'])\n",
    "    return model"
   ]
  },
  {
   "cell_type": "code",
   "execution_count": null,
   "metadata": {
    "ExecuteTime": {
     "end_time": "2018-02-15T19:20:37.781996Z",
     "start_time": "2018-02-15T19:20:37.606749Z"
    }
   },
   "outputs": [],
   "source": [
    "epochs = 10\n",
    "batch_size = 128\n",
    "\n",
    "cnn_pad = create_CNN()\n",
    "cnn_pad.summary()"
   ]
  },
  {
   "cell_type": "code",
   "execution_count": null,
   "metadata": {
    "ExecuteTime": {
     "end_time": "2018-02-15T19:28:21.140689Z",
     "start_time": "2018-02-15T19:20:37.793997Z"
    }
   },
   "outputs": [],
   "source": [
    "pad_fit = cnn_pad.fit(X_pad_train, y_pad_train_onehot,\n",
    "          batch_size=batch_size,\n",
    "          epochs=epochs,\n",
    "          verbose=1)"
   ]
  },
  {
   "cell_type": "code",
   "execution_count": null,
   "metadata": {
    "ExecuteTime": {
     "end_time": "2018-02-15T19:32:07.501958Z",
     "start_time": "2018-02-15T19:32:05.492654Z"
    }
   },
   "outputs": [],
   "source": [
    "score_pad = cnn_pad.evaluate(X_pad_test, y_pad_test_onehot, verbose=0)\n",
    "print('Test accuracy:', score_pad[1])\n",
    "\n",
    "plt.plot(pad_fit.history['loss'])\n",
    "plt.xlabel('Epoch')\n",
    "plt.ylabel('Loss')\n",
    "plt.title('Simple CNN with padded imgs')\n",
    "plt.show()"
   ]
  },
  {
   "cell_type": "code",
   "execution_count": null,
   "metadata": {
    "ExecuteTime": {
     "end_time": "2018-02-15T19:40:02.011947Z",
     "start_time": "2018-02-15T19:32:10.952631Z"
    }
   },
   "outputs": [],
   "source": [
    "# for comparison with resized imgs\n",
    "cnn_inter = create_CNN()\n",
    "inter_fit = cnn_inter.fit(X_inter_train, y_inter_train_onehot,\n",
    "          batch_size=batch_size,\n",
    "          epochs=epochs,\n",
    "          verbose=1)"
   ]
  },
  {
   "cell_type": "code",
   "execution_count": null,
   "metadata": {
    "ExecuteTime": {
     "end_time": "2018-02-15T19:40:03.859310Z",
     "start_time": "2018-02-15T19:40:02.015887Z"
    }
   },
   "outputs": [],
   "source": [
    "score_inter = cnn_inter.evaluate(X_inter_test, y_inter_test_onehot, verbose=0)\n",
    "print('Test accuracy:', score_inter[1])\n",
    "\n",
    "plt.plot(inter_fit.history['loss'])\n",
    "plt.xlabel('Epoch')\n",
    "plt.ylabel('Loss')\n",
    "plt.title('Simple CNN with interpolated imgs')\n",
    "plt.show()"
   ]
  },
  {
   "cell_type": "code",
   "execution_count": null,
   "metadata": {},
   "outputs": [],
   "source": []
  }
 ],
 "metadata": {
  "kernelspec": {
   "display_name": "Python 3",
   "language": "python",
   "name": "python3"
  },
  "language_info": {
   "codemirror_mode": {
    "name": "ipython",
    "version": 3
   },
   "file_extension": ".py",
   "mimetype": "text/x-python",
   "name": "python",
   "nbconvert_exporter": "python",
   "pygments_lexer": "ipython3",
   "version": "3.6.3"
  }
 },
 "nbformat": 4,
 "nbformat_minor": 2
}
