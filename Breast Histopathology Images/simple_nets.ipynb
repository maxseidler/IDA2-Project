{
 "cells": [
  {
   "cell_type": "markdown",
   "metadata": {},
   "source": [
    "# Settings"
   ]
  },
  {
   "cell_type": "code",
   "execution_count": 1,
   "metadata": {
    "ExecuteTime": {
     "end_time": "2018-03-21T16:03:49.036827Z",
     "start_time": "2018-03-21T16:03:45.306237Z"
    }
   },
   "outputs": [
    {
     "name": "stderr",
     "output_type": "stream",
     "text": [
      "C:\\Users\\Max\\Miniconda3\\lib\\site-packages\\h5py\\__init__.py:36: FutureWarning: Conversion of the second argument of issubdtype from `float` to `np.floating` is deprecated. In future, it will be treated as `np.float64 == np.dtype(float).type`.\n",
      "  from ._conv import register_converters as _register_converters\n",
      "Using TensorFlow backend.\n"
     ]
    }
   ],
   "source": [
    "from keras.models import Sequential\n",
    "from keras.layers import Dense, Dropout, Flatten, BatchNormalization, Activation\n",
    "from keras.layers import Conv2D, MaxPooling2D\n",
    "from keras.utils import np_utils\n",
    "from keras.utils import plot_model\n",
    "from keras.regularizers import l2\n",
    "from keras.callbacks import EarlyStopping, TensorBoard, Callback\n",
    "\n",
    "from sklearn.model_selection import train_test_split\n",
    "from sklearn.model_selection import ShuffleSplit\n",
    "from sklearn.metrics import roc_curve, roc_auc_score, f1_score\n",
    "\n",
    "import numpy as np\n",
    "from matplotlib import pyplot as plt\n",
    "import glob\n",
    "import cv2\n",
    "import random\n",
    "from time import time"
   ]
  },
  {
   "cell_type": "markdown",
   "metadata": {},
   "source": [
    "# Prepare data"
   ]
  },
  {
   "cell_type": "code",
   "execution_count": 2,
   "metadata": {},
   "outputs": [],
   "source": [
    "def collect_and_split_data():\n",
    "    \"\"\"Collects data from disk and split into training, tuning and testing set.\"\"\"\n",
    "    patches = glob.glob('./padded/*.png')\n",
    "    X = []\n",
    "    y = []\n",
    "\n",
    "    for img_name in patches[:20000]:\n",
    "        image = cv2.imread(img_name)\n",
    "        X.append(image)\n",
    "        y.append(0) if img_name.endswith('class0.png') else y.append(1)\n",
    "\n",
    "    X = np.array(X)\n",
    "    y = np.array(y)\n",
    "    \n",
    "    # splitting data into training, validation and test set via indices\n",
    "    splitter = ShuffleSplit(n_splits=1, test_size=0.1, random_state=42)\n",
    "    train_idx, test_idx = list(splitter.split(X, y))[0]\n",
    "    train_idx, tune_idx = list(splitter.split(X[train_idx], y[train_idx]))[0]\n",
    "    \n",
    "    return X[train_idx], X[tune_idx], X[test_idx], y[train_idx], y[tune_idx], y[test_idx]"
   ]
  },
  {
   "cell_type": "code",
   "execution_count": 3,
   "metadata": {
    "ExecuteTime": {
     "end_time": "2018-03-21T16:36:40.417505Z",
     "start_time": "2018-03-21T16:36:40.338509Z"
    }
   },
   "outputs": [],
   "source": [
    "def prepare_data():\n",
    "    \"\"\"Zero centers and normalizes data between -1 and 1.\n",
    "    One-hot encodes label vector.\"\"\"\n",
    "    X_train, X_tune, X_test, y_train, y_tune, y_test = collect_and_split_data()\n",
    "    \n",
    "    # calculate per channel 'mean image' (average pixel values) from training data\n",
    "    mean_image = np.mean(X_train, axis = 0)  # shape=(50, 50, 3)\n",
    "    \n",
    "    # creating zero-centered datasets\n",
    "    X_train = X_train - mean_image\n",
    "    X_tune = X_tune - mean_image\n",
    "    X_test = X_test - mean_image\n",
    "    \n",
    "    # normalize data between -1 and 1\n",
    "    X_train = 2 * (X_train - np.min(X_train))/(np.max(X_train) - np.min(X_train)) - 1\n",
    "    X_tune = 2 * (X_tune - np.min(X_tune))/(np.max(X_tune) - np.min(X_tune)) - 1\n",
    "    X_test = 2 * (X_test - np.min(X_test))/(np.max(X_test) - np.min(X_test)) - 1\n",
    "    \n",
    "    # splitting and one-hot encoding the labels\n",
    "    y_train = np_utils.to_categorical(y_train, 2)\n",
    "    y_tune = np_utils.to_categorical(y_tune, 2)\n",
    "    y_test = np_utils.to_categorical(y_test, 2)\n",
    "    \n",
    "    return X_train, X_tune, X_test, y_train, y_tune, y_test"
   ]
  },
  {
   "cell_type": "markdown",
   "metadata": {},
   "source": [
    "# Build a ConvNet"
   ]
  },
  {
   "cell_type": "raw",
   "metadata": {
    "ExecuteTime": {
     "end_time": "2018-03-21T10:10:38.200785Z",
     "start_time": "2018-03-21T10:10:38.144502Z"
    }
   },
   "source": [
    "def create_CNN_old():\n",
    "    input_shape = (50, 50, 3)\n",
    "    num_classes = 2\n",
    "    reg = 0.0001\n",
    "    \n",
    "    model = Sequential()\n",
    "    model.add(Conv2D(32, (5, 5), padding='same', kernel_initializer='he_normal', input_shape=input_shape))\n",
    "    model.add(BatchNormalization())\n",
    "    model.add(Activation('relu'))\n",
    "    model.add(Conv2D(32, (5, 5), padding='same', kernel_initializer='he_normal'))\n",
    "    model.add(BatchNormalization())\n",
    "    model.add(Activation('relu'))\n",
    "    model.add(MaxPooling2D(pool_size=(2, 2)))\n",
    "    model.add(Dropout(0.5))\n",
    "    \n",
    "    model.add(Conv2D(64, (3, 3), padding='same', kernel_initializer='he_normal'))\n",
    "    model.add(BatchNormalization())\n",
    "    model.add(Activation('relu'))\n",
    "    model.add(Conv2D(64, (3, 3), padding='same', kernel_initializer='he_normal'))\n",
    "    model.add(BatchNormalization())\n",
    "    model.add(Activation('relu'))\n",
    "    model.add(MaxPooling2D(pool_size=(2, 2)))\n",
    "    model.add(Dropout(0.5))\n",
    "    \n",
    "    model.add(Flatten())\n",
    "    model.add(Dense(512, kernel_regularizer=l2(reg)))\n",
    "    model.add(BatchNormalization())\n",
    "    model.add(Activation('relu'))\n",
    "    model.add(Dropout(0.5))\n",
    "    model.add(Dense(num_classes, activation='softmax'))\n",
    "    \n",
    "    model.compile(loss='categorical_crossentropy', optimizer='adam', metrics=['accuracy'])\n",
    "    \n",
    "    return model"
   ]
  },
  {
   "cell_type": "code",
   "execution_count": 4,
   "metadata": {},
   "outputs": [],
   "source": [
    "def create_CNN():\n",
    "    input_shape = (50, 50, 3)\n",
    "    num_classes = 2\n",
    "    reg = 0.0001\n",
    "    \n",
    "    model = Sequential()\n",
    "    model.add(BatchNormalization(input_shape=input_shape))\n",
    "    model.add(Conv2D(32, (5, 5), padding='same', kernel_initializer='he_normal'))                           #50x50\n",
    "    model.add(Activation('relu'))\n",
    "    model.add(BatchNormalization())\n",
    "    model.add(Conv2D(32, (5, 5), padding='valid', kernel_initializer='he_normal'))                          #46x46\n",
    "    model.add(Activation('relu'))\n",
    "    model.add(BatchNormalization())\n",
    "    model.add(MaxPooling2D(pool_size=(2, 2), strides=2))                                                    #23x23\n",
    "    model.add(Dropout(0.2))\n",
    "    \n",
    "    model.add(Conv2D(64, (3, 3), padding='valid', kernel_initializer='he_normal'))                          #21x21\n",
    "    model.add(Activation('relu'))\n",
    "    model.add(BatchNormalization())\n",
    "    model.add(Conv2D(64, (3, 3), padding='valid', strides=2, kernel_initializer='he_normal'))               #10x10\n",
    "    model.add(Activation('relu'))\n",
    "    model.add(BatchNormalization())\n",
    "    model.add(MaxPooling2D(pool_size=(2, 2), strides=2))                                                    #5x5\n",
    "    model.add(Dropout(0.2))\n",
    "    \n",
    "    model.add(Flatten())\n",
    "    model.add(Dense(512, kernel_regularizer=l2(reg)))\n",
    "    model.add(Activation('relu'))\n",
    "    model.add(BatchNormalization())\n",
    "    model.add(Dropout(0.2))\n",
    "    model.add(Dense(num_classes, activation='softmax'))\n",
    "    \n",
    "    model.compile(loss='categorical_crossentropy', optimizer='adam', metrics=['accuracy'])\n",
    "    \n",
    "    return model"
   ]
  },
  {
   "cell_type": "code",
   "execution_count": 5,
   "metadata": {
    "ExecuteTime": {
     "end_time": "2018-03-21T10:10:38.705569Z",
     "start_time": "2018-03-21T10:10:38.203822Z"
    }
   },
   "outputs": [
    {
     "name": "stdout",
     "output_type": "stream",
     "text": [
      "_________________________________________________________________\n",
      "Layer (type)                 Output Shape              Param #   \n",
      "=================================================================\n",
      "batch_normalization_1 (Batch (None, 50, 50, 3)         12        \n",
      "_________________________________________________________________\n",
      "conv2d_1 (Conv2D)            (None, 50, 50, 32)        2432      \n",
      "_________________________________________________________________\n",
      "activation_1 (Activation)    (None, 50, 50, 32)        0         \n",
      "_________________________________________________________________\n",
      "batch_normalization_2 (Batch (None, 50, 50, 32)        128       \n",
      "_________________________________________________________________\n",
      "conv2d_2 (Conv2D)            (None, 46, 46, 32)        25632     \n",
      "_________________________________________________________________\n",
      "activation_2 (Activation)    (None, 46, 46, 32)        0         \n",
      "_________________________________________________________________\n",
      "batch_normalization_3 (Batch (None, 46, 46, 32)        128       \n",
      "_________________________________________________________________\n",
      "max_pooling2d_1 (MaxPooling2 (None, 23, 23, 32)        0         \n",
      "_________________________________________________________________\n",
      "dropout_1 (Dropout)          (None, 23, 23, 32)        0         \n",
      "_________________________________________________________________\n",
      "conv2d_3 (Conv2D)            (None, 21, 21, 64)        18496     \n",
      "_________________________________________________________________\n",
      "activation_3 (Activation)    (None, 21, 21, 64)        0         \n",
      "_________________________________________________________________\n",
      "batch_normalization_4 (Batch (None, 21, 21, 64)        256       \n",
      "_________________________________________________________________\n",
      "conv2d_4 (Conv2D)            (None, 10, 10, 64)        36928     \n",
      "_________________________________________________________________\n",
      "activation_4 (Activation)    (None, 10, 10, 64)        0         \n",
      "_________________________________________________________________\n",
      "batch_normalization_5 (Batch (None, 10, 10, 64)        256       \n",
      "_________________________________________________________________\n",
      "max_pooling2d_2 (MaxPooling2 (None, 5, 5, 64)          0         \n",
      "_________________________________________________________________\n",
      "dropout_2 (Dropout)          (None, 5, 5, 64)          0         \n",
      "_________________________________________________________________\n",
      "flatten_1 (Flatten)          (None, 1600)              0         \n",
      "_________________________________________________________________\n",
      "dense_1 (Dense)              (None, 512)               819712    \n",
      "_________________________________________________________________\n",
      "activation_5 (Activation)    (None, 512)               0         \n",
      "_________________________________________________________________\n",
      "batch_normalization_6 (Batch (None, 512)               2048      \n",
      "_________________________________________________________________\n",
      "dropout_3 (Dropout)          (None, 512)               0         \n",
      "_________________________________________________________________\n",
      "dense_2 (Dense)              (None, 2)                 1026      \n",
      "=================================================================\n",
      "Total params: 907,054\n",
      "Trainable params: 905,640\n",
      "Non-trainable params: 1,414\n",
      "_________________________________________________________________\n"
     ]
    }
   ],
   "source": [
    "cnn_pad = create_CNN()\n",
    "cnn_pad.summary()\n",
    "#cnn_pad_old = create_CNN_old()\n",
    "#cnn_pad_old.summary()\n",
    "#plot_model(cnn_pad, to_file='simple_cnn_model.png')"
   ]
  },
  {
   "cell_type": "markdown",
   "metadata": {},
   "source": [
    "# Analyze the training set"
   ]
  },
  {
   "cell_type": "code",
   "execution_count": 6,
   "metadata": {
    "ExecuteTime": {
     "end_time": "2018-03-21T16:37:03.308233Z",
     "start_time": "2018-03-21T16:36:57.555690Z"
    }
   },
   "outputs": [
    {
     "name": "stdout",
     "output_type": "stream",
     "text": [
      "(16200, 50, 50, 3)\n",
      "-1.0 1.0\n",
      "-1.0 1.0\n",
      "-1.0 1.0\n"
     ]
    }
   ],
   "source": [
    "X_train, X_tune, X_test, y_train, y_tune, y_test = prepare_data()\n",
    "\n",
    "print(X_train.shape)\n",
    "print(np.min(X_train), np.max(X_train))\n",
    "print(np.min(X_test), np.max(X_test))\n",
    "print(np.min(X_tune), np.max(X_tune))"
   ]
  },
  {
   "cell_type": "code",
   "execution_count": 7,
   "metadata": {
    "ExecuteTime": {
     "end_time": "2018-03-21T10:10:57.162864Z",
     "start_time": "2018-03-21T10:10:57.153607Z"
    }
   },
   "outputs": [
    {
     "name": "stdout",
     "output_type": "stream",
     "text": [
      "3797\n",
      "12403\n"
     ]
    }
   ],
   "source": [
    "print((y_train[:,1]==1).sum())  # positive examples\n",
    "print((y_train[:,0]==1).sum())  # negative examples"
   ]
  },
  {
   "cell_type": "raw",
   "metadata": {
    "ExecuteTime": {
     "end_time": "2018-03-21T10:10:57.186469Z",
     "start_time": "2018-03-21T10:10:57.165981Z"
    }
   },
   "source": [
    "def balance(X, y):\n",
    "    \"\"\" Function for getting perfectly balanced data set (50/50)\n",
    "        Takes as many negative examples, as there are positive ones\n",
    "        DON'T USE IT IF YOUR DATASET IS OK\n",
    "    \"\"\"\n",
    "    X0 = []\n",
    "    X1 = []\n",
    "    for i in range(0, len(y)):\n",
    "        X1.append(X[i]) if y[i] == 1 else X0.append(X[i]) \n",
    "    X0 = np.array(X0)\n",
    "    X1 = np.array(X1)\n",
    "    \n",
    "    X0 = X0[:len(X1)]\n",
    "    X_balanced = np.concatenate((X0, X1))\n",
    "\n",
    "    a = [0] * len(X0) \n",
    "    b = [1] * len(X1)\n",
    "    y_balanced = a + b\n",
    "\n",
    "    return X_balanced, y_balanced\n",
    "    \n",
    "#X, y = balance(X, y)"
   ]
  },
  {
   "cell_type": "markdown",
   "metadata": {},
   "source": [
    "# Train and evaluate the network"
   ]
  },
  {
   "cell_type": "code",
   "execution_count": 8,
   "metadata": {},
   "outputs": [],
   "source": [
    "class MetricsCallback(Callback):\n",
    "    \"\"\"Class for creating a callback which will compute F1 score and roc_auc_score\n",
    "       at the end of each epoch using the whole validation data.\n",
    "    \"\"\"\n",
    "    def on_train_begin(self, logs={}):\n",
    "        self.f1s = []\n",
    "        self.aucs = []\n",
    "        \n",
    "    def on_epoch_end(self, batch, logs={}):\n",
    "        predict = np.asarray(self.model.predict(self.validation_data[0])).round()\n",
    "        target = self.validation_data[1]\n",
    "        val_f1 = f1_score(target, predict, average='micro')\n",
    "        val_auc= roc_auc_score(target, predict)\n",
    "        logs['val_auc'] = val_auc\n",
    "        logs['val_f1'] = val_f1\n",
    "        self.f1s.append(val_f1)\n",
    "        self.aucs.append(val_auc)\n",
    "        #print(\" - val_f1: {} - val_auc: {}\".format(val_f1.round(4), val_auc.round(4)))\n",
    "        return"
   ]
  },
  {
   "cell_type": "code",
   "execution_count": 9,
   "metadata": {
    "ExecuteTime": {
     "end_time": "2018-03-21T14:34:04.641582Z",
     "start_time": "2018-03-21T10:10:57.188546Z"
    }
   },
   "outputs": [
    {
     "name": "stdout",
     "output_type": "stream",
     "text": [
      "Train on 16200 samples, validate on 1800 samples\n",
      "Epoch 1/15\n",
      "16200/16200 [==============================] - 17s 1ms/step - loss: 0.5084 - acc: 0.8464 - val_loss: 0.3566 - val_acc: 0.8828\n",
      "Epoch 2/15\n",
      "16200/16200 [==============================] - 14s 891us/step - loss: 0.3747 - acc: 0.8803 - val_loss: 0.3406 - val_acc: 0.8928\n",
      "Epoch 3/15\n",
      "16200/16200 [==============================] - 14s 892us/step - loss: 0.3441 - acc: 0.8865 - val_loss: 0.3659 - val_acc: 0.8856\n",
      "Epoch 4/15\n",
      "16200/16200 [==============================] - 14s 891us/step - loss: 0.3163 - acc: 0.8969 - val_loss: 0.3201 - val_acc: 0.8967\n",
      "Epoch 5/15\n",
      "16200/16200 [==============================] - 15s 900us/step - loss: 0.3087 - acc: 0.8996 - val_loss: 0.4300 - val_acc: 0.8172\n",
      "Epoch 6/15\n",
      "16200/16200 [==============================] - 14s 894us/step - loss: 0.2966 - acc: 0.9006 - val_loss: 0.3361 - val_acc: 0.8928\n",
      "Epoch 7/15\n",
      "16200/16200 [==============================] - 15s 898us/step - loss: 0.2725 - acc: 0.9101 - val_loss: 0.3540 - val_acc: 0.8906\n",
      "Epoch 8/15\n",
      "16200/16200 [==============================] - 15s 898us/step - loss: 0.2681 - acc: 0.9122 - val_loss: 0.3539 - val_acc: 0.8911\n",
      "Epoch 9/15\n",
      "16200/16200 [==============================] - 15s 900us/step - loss: 0.2539 - acc: 0.9190 - val_loss: 0.3207 - val_acc: 0.9000\n",
      "Epoch 10/15\n",
      "16200/16200 [==============================] - 14s 891us/step - loss: 0.2456 - acc: 0.9199 - val_loss: 0.3662 - val_acc: 0.8839\n",
      "Epoch 11/15\n",
      "16200/16200 [==============================] - 15s 898us/step - loss: 0.2377 - acc: 0.9240 - val_loss: 0.4230 - val_acc: 0.8944\n",
      "Epoch 12/15\n",
      "16200/16200 [==============================] - 14s 891us/step - loss: 0.2197 - acc: 0.9323 - val_loss: 0.3509 - val_acc: 0.8928\n",
      "Epoch 13/15\n",
      "16200/16200 [==============================] - 15s 895us/step - loss: 0.2185 - acc: 0.9327 - val_loss: 0.4005 - val_acc: 0.8900\n",
      "Epoch 14/15\n",
      "16200/16200 [==============================] - 15s 896us/step - loss: 0.2012 - acc: 0.9419 - val_loss: 0.3510 - val_acc: 0.8856\n",
      "Epoch 15/15\n",
      "16200/16200 [==============================] - 15s 895us/step - loss: 0.1866 - acc: 0.9472 - val_loss: 0.3947 - val_acc: 0.8900\n"
     ]
    }
   ],
   "source": [
    "epochs = 15\n",
    "batch_size = 128\n",
    "\n",
    "#early_stopping = EarlyStopping(monitor='val_loss', min_delta=0.0001, patience=10, mode='auto')\n",
    "#tensorboard = TensorBoard(log_dir=\"logs/{}{}\".format(time(),'_centered_split_norm_deep_bn'), histogram_freq=1, \n",
    "                          #batch_size=batch_size, \n",
    "                          #write_grads=True, write_images=False)\n",
    "\n",
    "metrics = MetricsCallback()\n",
    "fit_history = cnn_pad.fit(X_train, y_train, batch_size=batch_size, epochs=epochs,\n",
    "                          shuffle=True, verbose=1, validation_data=(X_tune, y_tune),\n",
    "                          callbacks=[metrics])# tensorboard, early_stopping])"
   ]
  },
  {
   "cell_type": "code",
   "execution_count": 10,
   "metadata": {
    "ExecuteTime": {
     "end_time": "2018-03-21T14:34:05.311149Z",
     "start_time": "2018-03-21T14:34:04.648693Z"
    }
   },
   "outputs": [
    {
     "data": {
      "image/png": "[encoded data removed]",
      "text/plain": [
       "<matplotlib.figure.Figure at 0x2c47c4d6588>"
      ]
     },
     "metadata": {},
     "output_type": "display_data"
    }
   ],
   "source": [
    "def plot_history(history):\n",
    "    \"\"\" Util function for plotting model's accuracy and loss\n",
    "        Could be deleted since all the info is in Tensorboard\n",
    "    \"\"\"\n",
    "    fig, axs = plt.subplots(1,2,figsize=(15,5))\n",
    "    axs[0].set_title('Model Accuracy')\n",
    "    axs[0].set_ylabel('Accuracy')\n",
    "    axs[0].set_xlabel('Epoch')\n",
    "    axs[0].plot(history.history['acc'])\n",
    "    axs[0].plot(history.history['val_acc'])\n",
    "    axs[0].set_xticks(np.arange(1, len(history.history['acc'])+1))\n",
    "    axs[0].legend(['train', 'val'], loc='best')\n",
    "    axs[1].set_title('Model Loss')\n",
    "    axs[1].set_ylabel('Loss')\n",
    "    axs[1].set_xlabel('Epoch')\n",
    "    axs[1].plot(history.history['loss'])\n",
    "    axs[1].plot(history.history['val_loss'])\n",
    "    axs[1].set_xticks(np.arange(1, len(history.history['loss'])+1))\n",
    "    axs[1].legend(['train', 'val'], loc='best')\n",
    "    plt.show()\n",
    "    \n",
    "plot_history(fit_history)"
   ]
  },
  {
   "cell_type": "code",
   "execution_count": 11,
   "metadata": {},
   "outputs": [
    {
     "name": "stdout",
     "output_type": "stream",
     "text": [
      "F1 score for validation set: 0.89\n"
     ]
    },
    {
     "data": {
      "image/png": "[encoded data removed]",
      "text/plain": [
       "<matplotlib.figure.Figure at 0x2c472c284e0>"
      ]
     },
     "metadata": {},
     "output_type": "display_data"
    }
   ],
   "source": [
    "def get_fpr_tpr(X, y):\n",
    "    \"\"\"Returns false and true positive rate of predicted labels.\"\"\"\n",
    "    y_pred = cnn_pad.predict(X)     # softmax probabilities (each prediction has two entries)\n",
    "    y_pred = np.array(y_pred)[:,1]  # get predictions for positive class\n",
    "    y = np.argmax(y, axis=1)        # remove one-hot encoding\n",
    "    fpr, tpr, _ = roc_curve(y, y_pred)\n",
    "    return fpr, tpr\n",
    "\n",
    "def plot_roc_curve(fpr, tpr, dataset):\n",
    "    \"\"\"Given the false and true positive rate, this function plots the ROC curve for a given dataset.\"\"\"\n",
    "    plt.figure()\n",
    "    lw = 2\n",
    "    plt.plot(fpr, tpr, color='darkorange', lw=lw, label='ROC curve (area = {:.2})'.format(fit_history.history['val_auc'][-1]))\n",
    "    plt.plot([0, 1], [0, 1], color='navy', lw=lw, linestyle='--')\n",
    "    plt.xlim([0.0, 1.0])\n",
    "    plt.ylim([0.0, 1.0])\n",
    "    plt.xlabel('False Positive Rate')\n",
    "    plt.ylabel('True Positive Rate')\n",
    "    plt.title('Receiver operating characteristic on {} set'.format(dataset))\n",
    "    plt.legend(loc=\"lower right\")\n",
    "    plt.show()\n",
    "\n",
    "print(\"F1 score for validation set: {:.3}\".format(fit_history.history['val_f1'][-1]))\n",
    "fpr, tpr = get_fpr_tpr(X_tune, y_tune)\n",
    "plot_roc_curve(fpr, tpr, 'validation')"
   ]
  },
  {
   "cell_type": "markdown",
   "metadata": {},
   "source": [
    "# Evaluate the performance on the test set"
   ]
  },
  {
   "cell_type": "code",
   "execution_count": 12,
   "metadata": {
    "ExecuteTime": {
     "end_time": "2018-03-21T14:34:05.320178Z",
     "start_time": "2018-03-21T14:34:05.315229Z"
    }
   },
   "outputs": [
    {
     "name": "stdout",
     "output_type": "stream",
     "text": [
      "Test loss: 0.323\n",
      "Test accuracy: 0.903\n"
     ]
    },
    {
     "data": {
      "image/png": "[encoded data removed]",
      "text/plain": [
       "<matplotlib.figure.Figure at 0x2c472b74a20>"
      ]
     },
     "metadata": {},
     "output_type": "display_data"
    }
   ],
   "source": [
    "score_pad = cnn_pad.evaluate(X_test, y_test, verbose=0)\n",
    "print('Test loss: {:.3}'.format(score_pad[0]))\n",
    "print('Test accuracy: {:.3}'.format(score_pad[1]))\n",
    "#TODO: F1 score of test set\n",
    "\n",
    "fpr, tpr = get_fpr_tpr(X_test, y_test)\n",
    "plot_roc_curve(fpr, tpr, 'test')\n",
    "\n",
    "#plt.plot(fit_history.history['loss'])\n",
    "#plt.xlabel('Epoch')\n",
    "#plt.ylabel('Loss')\n",
    "#plt.title('Simple CNN with padded imgs')\n",
    "#plt.show()"
   ]
  },
  {
   "cell_type": "code",
   "execution_count": null,
   "metadata": {},
   "outputs": [],
   "source": []
  }
 ],
 "metadata": {
  "kernelspec": {
   "display_name": "Python 3",
   "language": "python",
   "name": "python3"
  },
  "language_info": {
   "codemirror_mode": {
    "name": "ipython",
    "version": 3
   },
   "file_extension": ".py",
   "mimetype": "text/x-python",
   "name": "python",
   "nbconvert_exporter": "python",
   "pygments_lexer": "ipython3",
   "version": "3.6.4"
  }
 },
 "nbformat": 4,
 "nbformat_minor": 2
}
