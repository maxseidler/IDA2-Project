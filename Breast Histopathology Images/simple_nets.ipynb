{
 "cells": [
  {
   "cell_type": "code",
   "execution_count": 6,
   "metadata": {
    "ExecuteTime": {
     "end_time": "2018-02-24T19:38:18.297422Z",
     "start_time": "2018-02-24T19:38:18.282226Z"
    }
   },
   "outputs": [],
   "source": [
    "from keras.models import Sequential\n",
    "from keras.layers import Dense, Dropout, Flatten, BatchNormalization, Activation\n",
    "from keras.layers import Conv2D, MaxPooling2D\n",
    "from keras.utils import np_utils\n",
    "from keras.utils import plot_model\n",
    "\n",
    "from sklearn.model_selection import train_test_split\n",
    "\n",
    "import numpy as np\n",
    "from matplotlib import pyplot as plt\n",
    "import glob\n",
    "import cv2"
   ]
  },
  {
   "cell_type": "code",
   "execution_count": 2,
   "metadata": {
    "ExecuteTime": {
     "end_time": "2018-02-24T19:35:24.627488Z",
     "start_time": "2018-02-24T19:35:24.601578Z"
    }
   },
   "outputs": [],
   "source": [
    "def prepare_data(mode):\n",
    "    \"\"\" divides data into images and labels\n",
    "        Min-Max scales images\n",
    "    Params:\n",
    "        mode : String (either \"padded\" or \"resized\")\n",
    "    Returns:\n",
    "        scaled_X : array with images\n",
    "        y : array with corresponding labels\n",
    "        (0 for non-IDC, 1 for IDC)\n",
    "    \"\"\"\n",
    "    patches = glob.glob('./' + mode + '/*.png', recursive=True)\n",
    "    class0 = []\n",
    "    class1 = []\n",
    "    for name in glob.glob('./' + mode + '/*class0.png', recursive=True):\n",
    "        class0.append(name)\n",
    "    for name in glob.glob('./' + mode + '/*class1.png', recursive=True):\n",
    "        class1.append(name)\n",
    "    X = []\n",
    "    y = []\n",
    "    for img_name in patches:\n",
    "        image = cv2.imread(img_name)\n",
    "        X.append(image)\n",
    "        y.append(0) if img_name in class0 else y.append(1)\n",
    "    scaled_X = np.array(X)/255.0\n",
    "    return scaled_X, y"
   ]
  },
  {
   "cell_type": "code",
   "execution_count": 3,
   "metadata": {
    "ExecuteTime": {
     "end_time": "2018-02-24T19:35:32.460343Z",
     "start_time": "2018-02-24T19:35:25.549560Z"
    }
   },
   "outputs": [],
   "source": [
    "X_pad, y = prepare_data(\"padded\")"
   ]
  },
  {
   "cell_type": "code",
   "execution_count": 4,
   "metadata": {
    "ExecuteTime": {
     "end_time": "2018-02-24T19:36:26.602559Z",
     "start_time": "2018-02-24T19:36:26.184734Z"
    }
   },
   "outputs": [],
   "source": [
    "X_pad_train, X_pad_test, y_pad_train, y_pad_test = train_test_split(X_pad, y, test_size=0.1, random_state=42)"
   ]
  },
  {
   "cell_type": "code",
   "execution_count": 35,
   "metadata": {
    "ExecuteTime": {
     "end_time": "2018-02-24T21:47:31.095450Z",
     "start_time": "2018-02-24T21:47:31.089971Z"
    }
   },
   "outputs": [],
   "source": [
    "y_pad_train_onehot = np_utils.to_categorical(y_pad_train, 2)\n",
    "y_pad_test_onehot = np_utils.to_categorical(y_pad_test, 2)"
   ]
  },
  {
   "cell_type": "code",
   "execution_count": 41,
   "metadata": {
    "ExecuteTime": {
     "end_time": "2018-02-24T22:17:31.157736Z",
     "start_time": "2018-02-24T22:17:31.100724Z"
    }
   },
   "outputs": [],
   "source": [
    "def create_CNN():\n",
    "    input_shape = (50, 50, 3)\n",
    "    num_classes = 2\n",
    "    \n",
    "    model = Sequential()\n",
    "    \n",
    "    model.add(Conv2D(32, kernel_size=(3, 3), padding='same', input_shape=input_shape)) # strides=(1, 1) default\n",
    "    model.add(BatchNormalization())\n",
    "    model.add(Activation('relu'))\n",
    "    model.add(Conv2D(32, (3, 3)))\n",
    "    model.add(BatchNormalization())\n",
    "    model.add(Activation('relu'))\n",
    "    model.add(MaxPooling2D(pool_size=(2, 2)))\n",
    "    #model.add(Dropout(0.2))\n",
    "    \n",
    "    model.add(Conv2D(64, (3, 3), padding='same'))\n",
    "    model.add(BatchNormalization())\n",
    "    model.add(Activation('relu'))\n",
    "    model.add(Conv2D(64, (3, 3), padding='same'))\n",
    "    model.add(BatchNormalization())\n",
    "    model.add(Activation('relu'))\n",
    "    model.add(MaxPooling2D(pool_size=(2, 2)))\n",
    "    #model.add(Dropout(0.2))\n",
    "    \n",
    "    model.add(Flatten())\n",
    "    model.add(Dense(512))\n",
    "    model.add(BatchNormalization())\n",
    "    model.add(Activation('relu'))\n",
    "    model.add(Dropout(0.2))\n",
    "    model.add(Dense(num_classes, activation='softmax'))\n",
    "    \n",
    "    model.compile(loss='categorical_crossentropy', optimizer='adam', metrics=['accuracy'])\n",
    "    return model"
   ]
  },
  {
   "cell_type": "code",
   "execution_count": 44,
   "metadata": {
    "ExecuteTime": {
     "end_time": "2018-02-24T22:17:51.690006Z",
     "start_time": "2018-02-24T22:17:51.150678Z"
    }
   },
   "outputs": [
    {
     "name": "stdout",
     "output_type": "stream",
     "text": [
      "_________________________________________________________________\n",
      "Layer (type)                 Output Shape              Param #   \n",
      "=================================================================\n",
      "conv2d_34 (Conv2D)           (None, 50, 50, 32)        896       \n",
      "_________________________________________________________________\n",
      "batch_normalization_36 (Batc (None, 50, 50, 32)        128       \n",
      "_________________________________________________________________\n",
      "activation_36 (Activation)   (None, 50, 50, 32)        0         \n",
      "_________________________________________________________________\n",
      "conv2d_35 (Conv2D)           (None, 48, 48, 32)        9248      \n",
      "_________________________________________________________________\n",
      "batch_normalization_37 (Batc (None, 48, 48, 32)        128       \n",
      "_________________________________________________________________\n",
      "activation_37 (Activation)   (None, 48, 48, 32)        0         \n",
      "_________________________________________________________________\n",
      "max_pooling2d_17 (MaxPooling (None, 24, 24, 32)        0         \n",
      "_________________________________________________________________\n",
      "conv2d_36 (Conv2D)           (None, 24, 24, 64)        18496     \n",
      "_________________________________________________________________\n",
      "batch_normalization_38 (Batc (None, 24, 24, 64)        256       \n",
      "_________________________________________________________________\n",
      "activation_38 (Activation)   (None, 24, 24, 64)        0         \n",
      "_________________________________________________________________\n",
      "conv2d_37 (Conv2D)           (None, 24, 24, 64)        36928     \n",
      "_________________________________________________________________\n",
      "batch_normalization_39 (Batc (None, 24, 24, 64)        256       \n",
      "_________________________________________________________________\n",
      "activation_39 (Activation)   (None, 24, 24, 64)        0         \n",
      "_________________________________________________________________\n",
      "max_pooling2d_18 (MaxPooling (None, 12, 12, 64)        0         \n",
      "_________________________________________________________________\n",
      "flatten_9 (Flatten)          (None, 9216)              0         \n",
      "_________________________________________________________________\n",
      "dense_17 (Dense)             (None, 512)               4719104   \n",
      "_________________________________________________________________\n",
      "batch_normalization_40 (Batc (None, 512)               2048      \n",
      "_________________________________________________________________\n",
      "activation_40 (Activation)   (None, 512)               0         \n",
      "_________________________________________________________________\n",
      "dropout_15 (Dropout)         (None, 512)               0         \n",
      "_________________________________________________________________\n",
      "dense_18 (Dense)             (None, 2)                 1026      \n",
      "=================================================================\n",
      "Total params: 4,788,514\n",
      "Trainable params: 4,787,106\n",
      "Non-trainable params: 1,408\n",
      "_________________________________________________________________\n"
     ]
    }
   ],
   "source": [
    "epochs = 20\n",
    "batch_size = 128\n",
    "\n",
    "cnn_pad = create_CNN()\n",
    "cnn_pad.summary()\n",
    "plot_model(cnn_pad, to_file='simple_cnn_model.png')"
   ]
  },
  {
   "cell_type": "code",
   "execution_count": 45,
   "metadata": {
    "ExecuteTime": {
     "end_time": "2018-02-24T23:08:43.539365Z",
     "start_time": "2018-02-24T22:17:51.849799Z"
    }
   },
   "outputs": [
    {
     "name": "stdout",
     "output_type": "stream",
     "text": [
      "Epoch 1/20\n",
      "9000/9000 [==============================] - 150s 17ms/step - loss: 0.3294 - acc: 0.8858\n",
      "Epoch 2/20\n",
      "9000/9000 [==============================] - 146s 16ms/step - loss: 0.1937 - acc: 0.9217\n",
      "Epoch 3/20\n",
      "9000/9000 [==============================] - 156s 17ms/step - loss: 0.1600 - acc: 0.9377\n",
      "Epoch 4/20\n",
      "9000/9000 [==============================] - 159s 18ms/step - loss: 0.1354 - acc: 0.9442\n",
      "Epoch 5/20\n",
      "9000/9000 [==============================] - 155s 17ms/step - loss: 0.1036 - acc: 0.9582\n",
      "Epoch 6/20\n",
      "9000/9000 [==============================] - 152s 17ms/step - loss: 0.0892 - acc: 0.9643\n",
      "Epoch 7/20\n",
      "9000/9000 [==============================] - 147s 16ms/step - loss: 0.0618 - acc: 0.9762\n",
      "Epoch 8/20\n",
      "9000/9000 [==============================] - 171s 19ms/step - loss: 0.0390 - acc: 0.9853\n",
      "Epoch 9/20\n",
      "9000/9000 [==============================] - 191s 21ms/step - loss: 0.0390 - acc: 0.9854\n",
      "Epoch 10/20\n",
      "9000/9000 [==============================] - 153s 17ms/step - loss: 0.0272 - acc: 0.9909\n",
      "Epoch 11/20\n",
      "9000/9000 [==============================] - 153s 17ms/step - loss: 0.0110 - acc: 0.9971\n",
      "Epoch 12/20\n",
      "9000/9000 [==============================] - 155s 17ms/step - loss: 0.0140 - acc: 0.9951\n",
      "Epoch 13/20\n",
      "9000/9000 [==============================] - 162s 18ms/step - loss: 0.0199 - acc: 0.9931\n",
      "Epoch 14/20\n",
      "9000/9000 [==============================] - 140s 16ms/step - loss: 0.0083 - acc: 0.9983\n",
      "Epoch 15/20\n",
      "9000/9000 [==============================] - 140s 16ms/step - loss: 0.0023 - acc: 0.9999\n",
      "Epoch 16/20\n",
      "9000/9000 [==============================] - 147s 16ms/step - loss: 0.0012 - acc: 0.9999\n",
      "Epoch 17/20\n",
      "9000/9000 [==============================] - 149s 17ms/step - loss: 0.0032 - acc: 0.9993\n",
      "Epoch 18/20\n",
      "9000/9000 [==============================] - 141s 16ms/step - loss: 0.0036 - acc: 0.9992\n",
      "Epoch 19/20\n",
      "9000/9000 [==============================] - 138s 15ms/step - loss: 0.0012 - acc: 0.9998\n",
      "Epoch 20/20\n",
      "9000/9000 [==============================] - 146s 16ms/step - loss: 8.2934e-04 - acc: 0.9999\n"
     ]
    }
   ],
   "source": [
    "pad_fit = cnn_pad.fit(X_pad_train, y_pad_train_onehot,\n",
    "          batch_size=batch_size,\n",
    "          epochs=epochs, shuffle=True,\n",
    "          verbose=1)"
   ]
  },
  {
   "cell_type": "code",
   "execution_count": 46,
   "metadata": {
    "ExecuteTime": {
     "end_time": "2018-02-24T23:08:47.758853Z",
     "start_time": "2018-02-24T23:08:43.543233Z"
    }
   },
   "outputs": [
    {
     "name": "stdout",
     "output_type": "stream",
     "text": [
      "Test loss: 0.425748536006\n",
      "Test accuracy: 0.925\n"
     ]
    },
    {
     "data": {
      "image/png": "[encoded data removed]",
      "text/plain": [
       "<matplotlib.figure.Figure at 0x1a92e6e0b8>"
      ]
     },
     "metadata": {},
     "output_type": "display_data"
    }
   ],
   "source": [
    "score_pad = cnn_pad.evaluate(X_pad_test, y_pad_test_onehot, verbose=0)\n",
    "print('Test loss:', score_pad[0])\n",
    "print('Test accuracy:', score_pad[1])\n",
    "\n",
    "plt.plot(pad_fit.history['loss'])\n",
    "plt.xlabel('Epoch')\n",
    "plt.ylabel('Loss')\n",
    "plt.title('Simple CNN with padded imgs')\n",
    "plt.show()"
   ]
  },
  {
   "cell_type": "code",
   "execution_count": null,
   "metadata": {
    "ExecuteTime": {
     "end_time": "2018-02-19T17:44:34.330750Z",
     "start_time": "2018-02-19T17:35:29.522234Z"
    }
   },
   "outputs": [],
   "source": [
    "# for comparison with resized imgs\n",
    "X_inter, _ = prepare_data(\"resized\")\n",
    "X_inter_train, X_inter_test, y_inter_train, y_inter_test = train_test_split(X_inter, y, test_size=0.1, random_state=42)\n",
    "y_inter_train_onehot = np_utils.to_categorical(y_inter_train, 2)\n",
    "y_inter_test_onehot = np_utils.to_categorical(y_inter_test, 2)\n",
    "\n",
    "cnn_inter = create_CNN()\n",
    "inter_fit = cnn_inter.fit(X_inter_train, y_inter_train_onehot,\n",
    "          batch_size=batch_size,\n",
    "          epochs=epochs,\n",
    "          verbose=1)"
   ]
  },
  {
   "cell_type": "code",
   "execution_count": null,
   "metadata": {
    "ExecuteTime": {
     "end_time": "2018-02-19T17:44:36.250207Z",
     "start_time": "2018-02-19T17:44:34.335324Z"
    }
   },
   "outputs": [],
   "source": [
    "score_inter = cnn_inter.evaluate(X_inter_test, y_inter_test_onehot, verbose=0)\n",
    "print('Test accuracy:', score_inter[1])\n",
    "\n",
    "plt.plot(inter_fit.history['loss'])\n",
    "plt.xlabel('Epoch')\n",
    "plt.ylabel('Loss')\n",
    "plt.title('Simple CNN with interpolated imgs')\n",
    "plt.show()"
   ]
  }
 ],
 "metadata": {
  "kernelspec": {
   "display_name": "Python 3",
   "language": "python",
   "name": "python3"
  },
  "language_info": {
   "codemirror_mode": {
    "name": "ipython",
    "version": 3
   },
   "file_extension": ".py",
   "mimetype": "text/x-python",
   "name": "python",
   "nbconvert_exporter": "python",
   "pygments_lexer": "ipython3",
   "version": "3.6.3"
  }
 },
 "nbformat": 4,
 "nbformat_minor": 2
}
