{
 "cells": [
  {
   "cell_type": "markdown",
   "metadata": {},
   "source": [
    "# Settings"
   ]
  },
  {
   "cell_type": "code",
   "execution_count": 1,
   "metadata": {
    "ExecuteTime": {
     "end_time": "2018-03-18T18:04:37.143474Z",
     "start_time": "2018-03-18T18:04:33.316158Z"
    }
   },
   "outputs": [
    {
     "name": "stderr",
     "output_type": "stream",
     "text": [
      "Using TensorFlow backend.\n"
     ]
    }
   ],
   "source": [
    "from keras.models import Sequential\n",
    "from keras.layers import Dense, Dropout, Flatten, BatchNormalization, Activation\n",
    "from keras.layers import Conv2D, MaxPooling2D\n",
    "from keras.utils import np_utils\n",
    "from keras.utils import plot_model\n",
    "from keras.regularizers import l2\n",
    "from keras.callbacks import EarlyStopping, TensorBoard\n",
    "\n",
    "from sklearn.model_selection import train_test_split\n",
    "\n",
    "import numpy as np\n",
    "from matplotlib import pyplot as plt\n",
    "import glob\n",
    "import cv2\n",
    "import random\n",
    "from time import time"
   ]
  },
  {
   "cell_type": "markdown",
   "metadata": {},
   "source": [
    "# Prepare data"
   ]
  },
  {
   "cell_type": "code",
   "execution_count": 2,
   "metadata": {
    "ExecuteTime": {
     "end_time": "2018-03-18T18:04:37.167273Z",
     "start_time": "2018-03-18T18:04:37.146006Z"
    }
   },
   "outputs": [],
   "source": [
    "def prepare_data():\n",
    "    \"\"\" Divides data into images and labels.\n",
    "        Substracts mean per-channel image from all images.\n",
    "        Then normalizes pixel values between 0 and 1.\n",
    "    Returns:\n",
    "        normalized_X : array with images\n",
    "        y : array with corresponding labels\n",
    "        (0 for non-IDC, 1 for IDC)\n",
    "    \"\"\"\n",
    "    patches = glob.glob('./padded/*.png')\n",
    "    X = []\n",
    "    y = []\n",
    "\n",
    "    for img_name in patches[:10000]:\n",
    "        image = cv2.imread(img_name)\n",
    "        X.append(image)\n",
    "        y.append(0) if img_name.endswith('class0.png') else y.append(1)\n",
    "    \n",
    "    mean_image = np.sum(np.array(X), axis=0) / len(X)  # per channel mean image of shape (50, 50, 3)\n",
    "    centered_X = np.array(X) - mean_image              # has negative pixel values, so we normalize in the next step\n",
    "    normalized_X = centered_X - np.min(centered_X)/(np.max(centered_X) - np.min(centered_X))\n",
    "    \n",
    "    return normalized_X, y"
   ]
  },
  {
   "cell_type": "markdown",
   "metadata": {},
   "source": [
    "# Build a ConvNet"
   ]
  },
  {
   "cell_type": "code",
   "execution_count": 3,
   "metadata": {
    "ExecuteTime": {
     "end_time": "2018-03-18T18:04:37.255992Z",
     "start_time": "2018-03-18T18:04:37.172188Z"
    }
   },
   "outputs": [],
   "source": [
    "def create_CNN():\n",
    "    input_shape = (50, 50, 3)\n",
    "    num_classes = 2\n",
    "    reg = 0.0001\n",
    "    \n",
    "    model = Sequential()\n",
    "    model.add(Conv2D(32, (5, 5), padding='same', kernel_initializer='he_normal', input_shape=input_shape))\n",
    "    model.add(BatchNormalization())\n",
    "    model.add(Activation('relu'))\n",
    "    model.add(Conv2D(32, (5, 5), padding='same', kernel_initializer='he_normal'))\n",
    "    model.add(BatchNormalization())\n",
    "    model.add(Activation('relu'))\n",
    "    model.add(MaxPooling2D(pool_size=(2, 2)))\n",
    "    model.add(Dropout(0.5))\n",
    "    \n",
    "    model.add(Conv2D(64, (3, 3), padding='same', kernel_initializer='he_normal'))\n",
    "    model.add(BatchNormalization())\n",
    "    model.add(Activation('relu'))\n",
    "    model.add(Conv2D(64, (3, 3), padding='same', kernel_initializer='he_normal'))\n",
    "    model.add(BatchNormalization())\n",
    "    model.add(Activation('relu'))\n",
    "    model.add(MaxPooling2D(pool_size=(2, 2)))\n",
    "    model.add(Dropout(0.5))\n",
    "    \n",
    "    model.add(Flatten())\n",
    "    model.add(Dense(512, kernel_regularizer=l2(reg)))\n",
    "    model.add(BatchNormalization())\n",
    "    model.add(Activation('relu'))\n",
    "    model.add(Dropout(0.5))\n",
    "    model.add(Dense(num_classes, activation='softmax'))\n",
    "    \n",
    "    model.compile(loss='categorical_crossentropy', optimizer='adam', metrics=['accuracy'])\n",
    "    \n",
    "    return model"
   ]
  },
  {
   "cell_type": "code",
   "execution_count": 4,
   "metadata": {
    "ExecuteTime": {
     "end_time": "2018-03-18T18:04:38.034012Z",
     "start_time": "2018-03-18T18:04:37.261668Z"
    }
   },
   "outputs": [
    {
     "name": "stdout",
     "output_type": "stream",
     "text": [
      "_________________________________________________________________\n",
      "Layer (type)                 Output Shape              Param #   \n",
      "=================================================================\n",
      "conv2d_1 (Conv2D)            (None, 50, 50, 32)        2432      \n",
      "_________________________________________________________________\n",
      "batch_normalization_1 (Batch (None, 50, 50, 32)        128       \n",
      "_________________________________________________________________\n",
      "activation_1 (Activation)    (None, 50, 50, 32)        0         \n",
      "_________________________________________________________________\n",
      "conv2d_2 (Conv2D)            (None, 50, 50, 32)        25632     \n",
      "_________________________________________________________________\n",
      "batch_normalization_2 (Batch (None, 50, 50, 32)        128       \n",
      "_________________________________________________________________\n",
      "activation_2 (Activation)    (None, 50, 50, 32)        0         \n",
      "_________________________________________________________________\n",
      "max_pooling2d_1 (MaxPooling2 (None, 25, 25, 32)        0         \n",
      "_________________________________________________________________\n",
      "dropout_1 (Dropout)          (None, 25, 25, 32)        0         \n",
      "_________________________________________________________________\n",
      "conv2d_3 (Conv2D)            (None, 25, 25, 64)        18496     \n",
      "_________________________________________________________________\n",
      "batch_normalization_3 (Batch (None, 25, 25, 64)        256       \n",
      "_________________________________________________________________\n",
      "activation_3 (Activation)    (None, 25, 25, 64)        0         \n",
      "_________________________________________________________________\n",
      "conv2d_4 (Conv2D)            (None, 25, 25, 64)        36928     \n",
      "_________________________________________________________________\n",
      "batch_normalization_4 (Batch (None, 25, 25, 64)        256       \n",
      "_________________________________________________________________\n",
      "activation_4 (Activation)    (None, 25, 25, 64)        0         \n",
      "_________________________________________________________________\n",
      "max_pooling2d_2 (MaxPooling2 (None, 12, 12, 64)        0         \n",
      "_________________________________________________________________\n",
      "dropout_2 (Dropout)          (None, 12, 12, 64)        0         \n",
      "_________________________________________________________________\n",
      "flatten_1 (Flatten)          (None, 9216)              0         \n",
      "_________________________________________________________________\n",
      "dense_1 (Dense)              (None, 512)               4719104   \n",
      "_________________________________________________________________\n",
      "batch_normalization_5 (Batch (None, 512)               2048      \n",
      "_________________________________________________________________\n",
      "activation_5 (Activation)    (None, 512)               0         \n",
      "_________________________________________________________________\n",
      "dropout_3 (Dropout)          (None, 512)               0         \n",
      "_________________________________________________________________\n",
      "dense_2 (Dense)              (None, 2)                 1026      \n",
      "=================================================================\n",
      "Total params: 4,806,434\n",
      "Trainable params: 4,805,026\n",
      "Non-trainable params: 1,408\n",
      "_________________________________________________________________\n"
     ]
    }
   ],
   "source": [
    "cnn_pad = create_CNN()\n",
    "cnn_pad.summary()\n",
    "plot_model(cnn_pad, to_file='simple_cnn_model.png')"
   ]
  },
  {
   "cell_type": "markdown",
   "metadata": {},
   "source": [
    "# Analyze the training set"
   ]
  },
  {
   "cell_type": "code",
   "execution_count": 5,
   "metadata": {
    "ExecuteTime": {
     "end_time": "2018-03-18T18:04:47.459179Z",
     "start_time": "2018-03-18T18:04:38.038068Z"
    }
   },
   "outputs": [
    {
     "name": "stdout",
     "output_type": "stream",
     "text": [
      "(10000, 50, 50, 3)\n",
      "2797\n",
      "7203\n"
     ]
    }
   ],
   "source": [
    "X, y = prepare_data()\n",
    "\n",
    "print(X.shape)\n",
    "print(y.count(1))\n",
    "print(y.count(0))"
   ]
  },
  {
   "cell_type": "code",
   "execution_count": 6,
   "metadata": {
    "ExecuteTime": {
     "end_time": "2018-03-18T18:04:47.536492Z",
     "start_time": "2018-03-18T18:04:47.473507Z"
    }
   },
   "outputs": [],
   "source": [
    "def balance(X, y):\n",
    "    \"\"\" Function for getting perfectly balanced data set (50/50)\n",
    "        Takes as many negative examples, as there are positive ones\n",
    "        DON'T USE IT IF YOUR DATASET IS OK\n",
    "    \"\"\"\n",
    "    X0 = []\n",
    "    X1 = []\n",
    "    for i in range(0, len(y)):\n",
    "        X1.append(X[i]) if y[i] == 1 else X0.append(X[i]) \n",
    "    X0 = np.array(X0)\n",
    "    X1 = np.array(X1)\n",
    "    \n",
    "    X0 = X0[:len(X1)]\n",
    "    X_balanced = np.concatenate((X0, X1))\n",
    "\n",
    "    a = [0] * len(X0) \n",
    "    b = [1] * len(X1)\n",
    "    y_balanced = a + b\n",
    "\n",
    "    return X_balanced, y_balanced\n",
    "    \n",
    "#X, y = balance(X, y)\n",
    "#print(X.shape)\n",
    "#print(y.count(1))\n",
    "#print(y.count(0))"
   ]
  },
  {
   "cell_type": "markdown",
   "metadata": {},
   "source": [
    "# Train and evaluate the network"
   ]
  },
  {
   "cell_type": "code",
   "execution_count": 7,
   "metadata": {
    "ExecuteTime": {
     "end_time": "2018-03-18T19:38:20.019607Z",
     "start_time": "2018-03-18T18:04:47.545641Z"
    }
   },
   "outputs": [
    {
     "name": "stdout",
     "output_type": "stream",
     "text": [
      "Train on 8100 samples, validate on 900 samples\n",
      "Epoch 1/20\n",
      "8100/8100 [==============================] - 264s 33ms/step - loss: 0.6781 - acc: 0.7894 - val_loss: 0.7095 - val_acc: 0.8411\n",
      "Epoch 2/20\n",
      "8100/8100 [==============================] - 286s 35ms/step - loss: 0.5354 - acc: 0.8206 - val_loss: 0.5150 - val_acc: 0.8478\n",
      "Epoch 3/20\n",
      "8100/8100 [==============================] - 294s 36ms/step - loss: 0.5053 - acc: 0.8328 - val_loss: 0.4887 - val_acc: 0.8344\n",
      "Epoch 4/20\n",
      "8100/8100 [==============================] - 292s 36ms/step - loss: 0.4864 - acc: 0.8395 - val_loss: 0.4595 - val_acc: 0.8500\n",
      "Epoch 5/20\n",
      "8100/8100 [==============================] - 257s 32ms/step - loss: 0.4755 - acc: 0.8367 - val_loss: 0.4695 - val_acc: 0.8356\n",
      "Epoch 6/20\n",
      "8100/8100 [==============================] - 292s 36ms/step - loss: 0.4588 - acc: 0.8442 - val_loss: 0.4676 - val_acc: 0.8278\n",
      "Epoch 7/20\n",
      "8100/8100 [==============================] - 281s 35ms/step - loss: 0.4480 - acc: 0.8501 - val_loss: 0.4624 - val_acc: 0.8322\n",
      "Epoch 8/20\n",
      "8100/8100 [==============================] - 352s 43ms/step - loss: 0.4298 - acc: 0.8531 - val_loss: 0.4897 - val_acc: 0.8156\n",
      "Epoch 9/20\n",
      "8100/8100 [==============================] - 260s 32ms/step - loss: 0.4272 - acc: 0.8544 - val_loss: 0.4441 - val_acc: 0.8389\n",
      "Epoch 10/20\n",
      "8100/8100 [==============================] - 277s 34ms/step - loss: 0.4236 - acc: 0.8535 - val_loss: 0.4540 - val_acc: 0.8456\n",
      "Epoch 11/20\n",
      "8100/8100 [==============================] - 252s 31ms/step - loss: 0.4223 - acc: 0.8548 - val_loss: 0.4331 - val_acc: 0.8344\n",
      "Epoch 12/20\n",
      "8100/8100 [==============================] - 273s 34ms/step - loss: 0.4116 - acc: 0.8569 - val_loss: 0.4506 - val_acc: 0.8200\n",
      "Epoch 13/20\n",
      "8100/8100 [==============================] - 257s 32ms/step - loss: 0.4080 - acc: 0.8602 - val_loss: 0.4413 - val_acc: 0.8378\n",
      "Epoch 14/20\n",
      "8100/8100 [==============================] - 278s 34ms/step - loss: 0.3983 - acc: 0.8623 - val_loss: 0.4516 - val_acc: 0.8444\n",
      "Epoch 15/20\n",
      "8100/8100 [==============================] - 267s 33ms/step - loss: 0.4025 - acc: 0.8601 - val_loss: 0.4591 - val_acc: 0.8211\n",
      "Epoch 16/20\n",
      "8100/8100 [==============================] - 253s 31ms/step - loss: 0.3941 - acc: 0.8614 - val_loss: 0.4216 - val_acc: 0.8578\n",
      "Epoch 17/20\n",
      "8100/8100 [==============================] - 254s 31ms/step - loss: 0.3964 - acc: 0.8607 - val_loss: 0.4310 - val_acc: 0.8633\n",
      "Epoch 18/20\n",
      "8100/8100 [==============================] - 297s 37ms/step - loss: 0.3856 - acc: 0.8653 - val_loss: 0.4542 - val_acc: 0.8478\n",
      "Epoch 19/20\n",
      "8100/8100 [==============================] - 311s 38ms/step - loss: 0.3835 - acc: 0.8717 - val_loss: 0.4715 - val_acc: 0.8322\n",
      "Epoch 20/20\n",
      "8100/8100 [==============================] - 288s 36ms/step - loss: 0.3792 - acc: 0.8686 - val_loss: 0.4476 - val_acc: 0.8378\n"
     ]
    }
   ],
   "source": [
    "X_train_tune, X_test, y_train_tune, y_test = train_test_split(X, y, test_size=0.1, random_state=42)\n",
    "\n",
    "y_train_tune_onehot = np_utils.to_categorical(y_train_tune, 2)\n",
    "y_test_onehot = np_utils.to_categorical(y_test, 2)\n",
    "\n",
    "epochs = 20\n",
    "batch_size = 128\n",
    "\n",
    "early_stopping = EarlyStopping(monitor='val_loss', min_delta=0.0001, patience=10, mode='auto')\n",
    "tensorboard = TensorBoard(log_dir=\"logs/{}{}\".format(time(),'_centered_bn_act'), histogram_freq=1, \n",
    "                          batch_size=batch_size, \n",
    "                          write_grads=True, write_images=False)\n",
    "\n",
    "fit_history = cnn_pad.fit(X_train_tune, y_train_tune_onehot,\n",
    "                          batch_size=batch_size,\n",
    "                          epochs=epochs, shuffle=True, \n",
    "                          verbose=1, validation_split=0.1, callbacks=[tensorboard, early_stopping])"
   ]
  },
  {
   "cell_type": "code",
   "execution_count": 8,
   "metadata": {
    "ExecuteTime": {
     "end_time": "2018-03-18T19:38:21.153156Z",
     "start_time": "2018-03-18T19:38:20.031385Z"
    }
   },
   "outputs": [
    {
     "data": {
      "image/png": "[encoded data removed]",
      "text/plain": [
       "<matplotlib.figure.Figure at 0x1a49beb470>"
      ]
     },
     "metadata": {},
     "output_type": "display_data"
    }
   ],
   "source": [
    "def plot_history(history):\n",
    "    \"\"\" Util function for plotting model's accuracy and loss\n",
    "        Could be deleted since all the info is in Tensorboard\n",
    "    \"\"\"\n",
    "    fig, axs = plt.subplots(1,2,figsize=(15,5))\n",
    "    axs[0].set_title('Model Accuracy')\n",
    "    axs[0].set_ylabel('Accuracy')\n",
    "    axs[0].set_xlabel('Epoch')\n",
    "    axs[0].plot(history.history['acc'])\n",
    "    axs[0].plot(history.history['val_acc'])\n",
    "    axs[0].set_xticks(np.arange(1, len(history.history['acc'])+1))\n",
    "    axs[0].legend(['train', 'val'], loc='best')\n",
    "    axs[1].set_title('Model Loss')\n",
    "    axs[1].set_ylabel('Loss')\n",
    "    axs[1].set_xlabel('Epoch')\n",
    "    axs[1].plot(history.history['loss'])\n",
    "    axs[1].plot(history.history['val_loss'])\n",
    "    axs[1].set_xticks(np.arange(1, len(history.history['loss'])+1))\n",
    "    axs[1].legend(['train', 'val'], loc='best')\n",
    "    plt.show()\n",
    "\n",
    "plot_history(fit_history)"
   ]
  },
  {
   "cell_type": "markdown",
   "metadata": {},
   "source": [
    "# Evaluate the performance on the test set"
   ]
  },
  {
   "cell_type": "code",
   "execution_count": 9,
   "metadata": {
    "ExecuteTime": {
     "end_time": "2018-03-18T19:38:21.166465Z",
     "start_time": "2018-03-18T19:38:21.158427Z"
    }
   },
   "outputs": [],
   "source": [
    "#score_pad = cnn_pad.evaluate(X_test, y_test_onehot, verbose=0)\n",
    "#print('Test loss:', score_pad[0])\n",
    "#print('Test accuracy:', score_pad[1])\n",
    "\n",
    "#plt.plot(fit_history.history['loss'])\n",
    "#plt.xlabel('Epoch')\n",
    "#plt.ylabel('Loss')\n",
    "#plt.title('Simple CNN with padded imgs')\n",
    "#plt.show()"
   ]
  },
  {
   "cell_type": "code",
   "execution_count": null,
   "metadata": {},
   "outputs": [],
   "source": []
  }
 ],
 "metadata": {
  "kernelspec": {
   "display_name": "Python 3",
   "language": "python",
   "name": "python3"
  },
  "language_info": {
   "codemirror_mode": {
    "name": "ipython",
    "version": 3
   },
   "file_extension": ".py",
   "mimetype": "text/x-python",
   "name": "python",
   "nbconvert_exporter": "python",
   "pygments_lexer": "ipython3",
   "version": "3.6.3"
  }
 },
 "nbformat": 4,
 "nbformat_minor": 2
}
