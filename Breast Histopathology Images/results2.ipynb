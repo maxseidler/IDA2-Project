{
 "cells": [
  {
   "cell_type": "code",
   "execution_count": 1,
   "metadata": {
    "ExecuteTime": {
     "end_time": "2018-03-14T12:44:53.873645Z",
     "start_time": "2018-03-14T12:44:48.186376Z"
    }
   },
   "outputs": [
    {
     "name": "stderr",
     "output_type": "stream",
     "text": [
      "C:\\Users\\Max\\Miniconda3\\lib\\site-packages\\h5py\\__init__.py:36: FutureWarning: Conversion of the second argument of issubdtype from `float` to `np.floating` is deprecated. In future, it will be treated as `np.float64 == np.dtype(float).type`.\n",
      "  from ._conv import register_converters as _register_converters\n",
      "Using TensorFlow backend.\n"
     ]
    }
   ],
   "source": [
    "from keras.models import Sequential\n",
    "from keras.layers import Dense, Dropout, Flatten, BatchNormalization, Activation\n",
    "from keras.layers import Conv2D, MaxPooling2D\n",
    "from keras.utils import np_utils\n",
    "from keras.utils import plot_model\n",
    "from keras.regularizers import l2\n",
    "from keras.callbacks import EarlyStopping, TensorBoard\n",
    "\n",
    "from sklearn.model_selection import train_test_split\n",
    "\n",
    "import numpy as np\n",
    "from matplotlib import pyplot as plt\n",
    "import glob\n",
    "import cv2\n",
    "import random\n",
    "from time import time"
   ]
  },
  {
   "cell_type": "code",
   "execution_count": 63,
   "metadata": {
    "ExecuteTime": {
     "end_time": "2018-03-14T12:54:40.886409Z",
     "start_time": "2018-03-14T12:54:34.398172Z"
    }
   },
   "outputs": [],
   "source": [
    "def prepare_data(mode):\n",
    "    \"\"\" divides data into images and labels\n",
    "        Min-Max scales images\n",
    "    Params:\n",
    "        mode : String (either \"padded\" or \"resized\")\n",
    "    Returns:\n",
    "        scaled_X : array with images\n",
    "        y : array with corresponding labels\n",
    "        (0 for non-IDC, 1 for IDC)\n",
    "    \"\"\"\n",
    "    patches = glob.glob('./' + mode + '/*.png')\n",
    "    X = []\n",
    "    y = []\n",
    "    for img_name in patches[:10000]:\n",
    "        image = cv2.imread(img_name)\n",
    "        X.append(image)\n",
    "        y.append(0) if img_name.endswith('class0.png') else y.append(1)\n",
    "    scaled_X = np.array(X)/255.0\n",
    "    return scaled_X, y"
   ]
  },
  {
   "cell_type": "code",
   "execution_count": 91,
   "metadata": {},
   "outputs": [],
   "source": [
    "def prepare_data_centered(mode):\n",
    "    \"\"\" Divides data into images and labels.\n",
    "        Substracts mean per-channel image from all images.\n",
    "        Then normalizes pixel values between 0 and 1.\n",
    "    Params:\n",
    "        mode : String (either \"padded\" or \"resized\")\n",
    "    Returns:\n",
    "        normalized_X : array with images\n",
    "        y : array with corresponding labels\n",
    "        (0 for non-IDC, 1 for IDC)\n",
    "    \"\"\"\n",
    "    patches = glob.glob('./' + mode + '/*.png')\n",
    "    X = []\n",
    "    y = []\n",
    "\n",
    "    for img_name in patches[:10000]:\n",
    "        image = cv2.imread(img_name)\n",
    "        X.append(image)\n",
    "        y.append(0) if img_name.endswith('class0.png') else y.append(1)\n",
    "    \n",
    "    mean_image = np.sum(np.array(X), axis=0) / len(X)  # per channel mean image of shape (50, 50, 3)\n",
    "    centered_X = np.array(X) - mean_image              # has negative pixel values, so we normalize in the next step\n",
    "    normalized_X = centered_X-np.min(centered_X)/(np.max(centered_X)-np.min(centered_X))\n",
    "    \n",
    "    return normalized_X, y"
   ]
  },
  {
   "cell_type": "code",
   "execution_count": 55,
   "metadata": {
    "ExecuteTime": {
     "end_time": "2018-03-13T23:46:56.757048Z",
     "start_time": "2018-03-13T23:46:56.688221Z"
    }
   },
   "outputs": [],
   "source": [
    "def create_CNN():\n",
    "    input_shape = (50, 50, 3)\n",
    "    num_classes = 2\n",
    "    reg = 0.0001\n",
    "    \n",
    "    model = Sequential()\n",
    "    # Conv 1\n",
    "    model.add(Conv2D(32, (5, 5), padding='same', kernel_initializer='he_normal', input_shape=input_shape))\n",
    "    model.add(BatchNormalization())\n",
    "    model.add(Activation('relu'))\n",
    "    # Conv 2\n",
    "    model.add(Conv2D(32, (5, 5), padding='same', kernel_initializer='he_normal'))\n",
    "    model.add(BatchNormalization())\n",
    "    model.add(Activation('relu'))\n",
    "    model.add(MaxPooling2D(pool_size=(2, 2)))\n",
    "    model.add(Dropout(0.4))\n",
    "    # Conv 3\n",
    "    model.add(Conv2D(64, (3, 3), padding='same', kernel_initializer='he_normal'))\n",
    "    model.add(BatchNormalization())\n",
    "    model.add(Activation('relu'))\n",
    "    # Conv 4\n",
    "    model.add(Conv2D(64, (3, 3), padding='same', kernel_initializer='he_normal'))\n",
    "    model.add(BatchNormalization())\n",
    "    model.add(Activation('relu'))\n",
    "    model.add(MaxPooling2D(pool_size=(2, 2)))\n",
    "    model.add(Dropout(0.25))\n",
    "    \n",
    "    model.add(Flatten())\n",
    "    model.add(Dense(512, kernel_regularizer=l2(reg)))\n",
    "    model.add(BatchNormalization())\n",
    "    model.add(Activation('relu'))\n",
    "    model.add(Dropout(0.5))\n",
    "    model.add(Dense(num_classes, activation='softmax'))\n",
    "    \n",
    "    model.compile(loss='categorical_crossentropy', optimizer='adam', metrics=['accuracy'])\n",
    "    \n",
    "    return model"
   ]
  },
  {
   "cell_type": "code",
   "execution_count": 56,
   "metadata": {
    "ExecuteTime": {
     "end_time": "2018-03-13T23:46:59.352379Z",
     "start_time": "2018-03-13T23:46:58.470857Z"
    }
   },
   "outputs": [
    {
     "name": "stdout",
     "output_type": "stream",
     "text": [
      "_________________________________________________________________\n",
      "Layer (type)                 Output Shape              Param #   \n",
      "=================================================================\n",
      "conv2d_25 (Conv2D)           (None, 50, 50, 32)        2432      \n",
      "_________________________________________________________________\n",
      "batch_normalization_27 (Batc (None, 50, 50, 32)        128       \n",
      "_________________________________________________________________\n",
      "activation_27 (Activation)   (None, 50, 50, 32)        0         \n",
      "_________________________________________________________________\n",
      "conv2d_26 (Conv2D)           (None, 50, 50, 32)        25632     \n",
      "_________________________________________________________________\n",
      "batch_normalization_28 (Batc (None, 50, 50, 32)        128       \n",
      "_________________________________________________________________\n",
      "activation_28 (Activation)   (None, 50, 50, 32)        0         \n",
      "_________________________________________________________________\n",
      "max_pooling2d_13 (MaxPooling (None, 25, 25, 32)        0         \n",
      "_________________________________________________________________\n",
      "dropout_10 (Dropout)         (None, 25, 25, 32)        0         \n",
      "_________________________________________________________________\n",
      "conv2d_27 (Conv2D)           (None, 25, 25, 64)        18496     \n",
      "_________________________________________________________________\n",
      "batch_normalization_29 (Batc (None, 25, 25, 64)        256       \n",
      "_________________________________________________________________\n",
      "activation_29 (Activation)   (None, 25, 25, 64)        0         \n",
      "_________________________________________________________________\n",
      "conv2d_28 (Conv2D)           (None, 25, 25, 64)        36928     \n",
      "_________________________________________________________________\n",
      "batch_normalization_30 (Batc (None, 25, 25, 64)        256       \n",
      "_________________________________________________________________\n",
      "activation_30 (Activation)   (None, 25, 25, 64)        0         \n",
      "_________________________________________________________________\n",
      "max_pooling2d_14 (MaxPooling (None, 12, 12, 64)        0         \n",
      "_________________________________________________________________\n",
      "dropout_11 (Dropout)         (None, 12, 12, 64)        0         \n",
      "_________________________________________________________________\n",
      "flatten_7 (Flatten)          (None, 9216)              0         \n",
      "_________________________________________________________________\n",
      "dense_9 (Dense)              (None, 512)               4719104   \n",
      "_________________________________________________________________\n",
      "batch_normalization_31 (Batc (None, 512)               2048      \n",
      "_________________________________________________________________\n",
      "activation_31 (Activation)   (None, 512)               0         \n",
      "_________________________________________________________________\n",
      "dropout_12 (Dropout)         (None, 512)               0         \n",
      "_________________________________________________________________\n",
      "dense_10 (Dense)             (None, 2)                 1026      \n",
      "=================================================================\n",
      "Total params: 4,806,434\n",
      "Trainable params: 4,805,026\n",
      "Non-trainable params: 1,408\n",
      "_________________________________________________________________\n"
     ]
    }
   ],
   "source": [
    "cnn_pad = create_CNN()\n",
    "cnn_pad.summary()\n",
    "#plot_model(cnn_pad, to_file='simple_cnn_model.png')"
   ]
  },
  {
   "cell_type": "code",
   "execution_count": 88,
   "metadata": {
    "ExecuteTime": {
     "end_time": "2018-03-13T23:47:16.861169Z",
     "start_time": "2018-03-13T23:47:00.639681Z"
    }
   },
   "outputs": [],
   "source": [
    "#X_pad, y = prepare_data(\"padded\")\n",
    "X_pad, y = prepare_data_centered(\"padded\")"
   ]
  },
  {
   "cell_type": "code",
   "execution_count": 89,
   "metadata": {},
   "outputs": [
    {
     "name": "stdout",
     "output_type": "stream",
     "text": [
      "(10000, 50, 50, 3)\n",
      "2459\n",
      "7541\n"
     ]
    }
   ],
   "source": [
    "print(X_pad.shape)\n",
    "print(y.count(1))\n",
    "print(y.count(0))"
   ]
  },
  {
   "cell_type": "code",
   "execution_count": 7,
   "metadata": {
    "ExecuteTime": {
     "end_time": "2018-03-13T23:48:23.713864Z",
     "start_time": "2018-03-13T23:48:23.692085Z"
    }
   },
   "outputs": [],
   "source": [
    "def balance(X, y):\n",
    "    \"\"\" Function for getting perfectly balanced data set (50/50)\n",
    "        Takes as many negative examples, as there are positive ones\n",
    "        DON'T USE IT IF YOUR DATASET IS OK\n",
    "    \"\"\"\n",
    "    X0 = []\n",
    "    X1 = []\n",
    "    for i in range(0, len(y)):\n",
    "        X1.append(X[i]) if y[i] == 1 else X0.append(X[i]) \n",
    "        X0 = np.array(X0)\n",
    "        X1 = np.array(X1)\n",
    "    \n",
    "    random.shuffle(X0)\n",
    "    balanced_X0 = X0[:len(X1)] \n",
    "    X_balanced = np.concatenate((balanced_X0, X1))\n",
    "\n",
    "    a = [0] * len(balanced_X0) \n",
    "    b = [1] * len(X1)\n",
    "    y_balanced = a + b\n",
    "\n",
    "    return X_balanced, y_balanced\n",
    "    \n",
    "#X_pad, y = balance(X_pad, y)"
   ]
  },
  {
   "cell_type": "code",
   "execution_count": 90,
   "metadata": {
    "ExecuteTime": {
     "end_time": "2018-03-14T03:17:51.810399Z",
     "start_time": "2018-03-13T23:48:28.538350Z"
    }
   },
   "outputs": [
    {
     "name": "stdout",
     "output_type": "stream",
     "text": [
      "Train on 8100 samples, validate on 900 samples\n",
      "Epoch 1/15\n",
      "8100/8100 [==============================] - 9s 1ms/step - loss: 0.3398 - acc: 0.9558 - val_loss: 0.3743 - val_acc: 0.9378\n",
      "Epoch 2/15\n",
      "8100/8100 [==============================] - 9s 1ms/step - loss: 0.2773 - acc: 0.9769 - val_loss: 0.3850 - val_acc: 0.9367\n",
      "Epoch 3/15\n",
      "8100/8100 [==============================] - 9s 1ms/step - loss: 0.2496 - acc: 0.9828 - val_loss: 0.3958 - val_acc: 0.9267\n",
      "Epoch 4/15\n",
      "8100/8100 [==============================] - 9s 1ms/step - loss: 0.2341 - acc: 0.9869 - val_loss: 0.3903 - val_acc: 0.9389\n",
      "Epoch 5/15\n",
      "8100/8100 [==============================] - 9s 1ms/step - loss: 0.2232 - acc: 0.9867 - val_loss: 0.3844 - val_acc: 0.9278\n",
      "Epoch 6/15\n",
      "8100/8100 [==============================] - 9s 1ms/step - loss: 0.2058 - acc: 0.9898 - val_loss: 0.3895 - val_acc: 0.9378\n",
      "Epoch 7/15\n",
      "8100/8100 [==============================] - 9s 1ms/step - loss: 0.1947 - acc: 0.9910 - val_loss: 0.4093 - val_acc: 0.9333\n",
      "Epoch 8/15\n",
      "8100/8100 [==============================] - 9s 1ms/step - loss: 0.1911 - acc: 0.9922 - val_loss: 0.4028 - val_acc: 0.9133\n",
      "Epoch 9/15\n",
      "8100/8100 [==============================] - 9s 1ms/step - loss: 0.1903 - acc: 0.9907 - val_loss: 0.4103 - val_acc: 0.9178\n",
      "Epoch 10/15\n",
      "8100/8100 [==============================] - 9s 1ms/step - loss: 0.1796 - acc: 0.9917 - val_loss: 0.4311 - val_acc: 0.9167\n",
      "Epoch 11/15\n",
      "8100/8100 [==============================] - 9s 1ms/step - loss: 0.1772 - acc: 0.9915 - val_loss: 0.4740 - val_acc: 0.9167\n",
      "Epoch 12/15\n",
      "8100/8100 [==============================] - 9s 1ms/step - loss: 0.1740 - acc: 0.9917 - val_loss: 0.4284 - val_acc: 0.9200\n",
      "Epoch 13/15\n",
      "8100/8100 [==============================] - 9s 1ms/step - loss: 0.1714 - acc: 0.9925 - val_loss: 0.4149 - val_acc: 0.9267\n",
      "Epoch 14/15\n",
      "8100/8100 [==============================] - 9s 1ms/step - loss: 0.1669 - acc: 0.9933 - val_loss: 0.4303 - val_acc: 0.9189\n",
      "Epoch 15/15\n",
      "8100/8100 [==============================] - 9s 1ms/step - loss: 0.1665 - acc: 0.9915 - val_loss: 0.4405 - val_acc: 0.9200\n"
     ]
    }
   ],
   "source": [
    "X_train_tune, X_test, y_train_tune, y_test = train_test_split(X_pad, y, test_size=0.1, random_state=42)\n",
    "\n",
    "y_train_tune_onehot = np_utils.to_categorical(y_train_tune, 2)\n",
    "y_test_onehot = np_utils.to_categorical(y_test, 2)\n",
    "\n",
    "epochs = 15\n",
    "batch_size = 128\n",
    "\n",
    "#early_stopping = EarlyStopping(monitor='val_loss', min_delta=0.0001, patience=5, mode='auto')\n",
    "#tensorboard = TensorBoard(log_dir=\"logs/{}\".format(time()), histogram_freq=1, batch_size=batch_size, \n",
    "                          #write_grads=True, write_images=True, write_graph=False)\n",
    "\n",
    "fit_history = cnn_pad.fit(X_train_tune, y_train_tune_onehot,\n",
    "                      batch_size=batch_size,\n",
    "                      epochs=epochs, shuffle=True, \n",
    "                      verbose=1, validation_split=0.1)#, callbacks=[tensorboard])"
   ]
  },
  {
   "cell_type": "code",
   "execution_count": 92,
   "metadata": {
    "ExecuteTime": {
     "end_time": "2018-03-14T03:17:52.164682Z",
     "start_time": "2018-03-14T03:17:51.814608Z"
    }
   },
   "outputs": [
    {
     "data": {
      "image/png": "[encoded data removed]",
      "text/plain": [
       "<matplotlib.figure.Figure at 0x21989b437b8>"
      ]
     },
     "metadata": {},
     "output_type": "display_data"
    }
   ],
   "source": [
    "def plot_history(history):\n",
    "    \"\"\" Util function for plotting model's accuracy and loss\n",
    "        Actually it can be deleted since all this info is in Tensorboard\n",
    "        Go for it \n",
    "    \"\"\"\n",
    "    fig, axs = plt.subplots(1,2,figsize=(15,5))\n",
    "    axs[0].set_title('Model Accuracy')\n",
    "    axs[0].set_ylabel('Accuracy')\n",
    "    axs[0].set_xlabel('Epoch')\n",
    "    axs[0].plot(history.history['acc'])\n",
    "    axs[0].plot(history.history['val_acc'])\n",
    "    axs[0].set_xticks(np.arange(1, len(history.history['acc'])+1))\n",
    "    axs[0].legend(['train', 'val'], loc='best')\n",
    "    axs[1].set_title('Model Loss')\n",
    "    axs[1].set_ylabel('Loss')\n",
    "    axs[1].set_xlabel('Epoch')\n",
    "    axs[1].plot(history.history['loss'])\n",
    "    axs[1].plot(history.history['val_loss'])\n",
    "    axs[1].set_xticks(np.arange(1, len(history.history['loss'])+1))\n",
    "    axs[1].legend(['train', 'val'], loc='best')\n",
    "    plt.show()\n",
    "\n",
    "plot_history(fit_history)"
   ]
  },
  {
   "cell_type": "code",
   "execution_count": null,
   "metadata": {
    "ExecuteTime": {
     "end_time": "2018-03-13T22:43:57.463715Z",
     "start_time": "2018-03-13T22:43:57.457678Z"
    }
   },
   "outputs": [],
   "source": [
    "#score_pad = cnn_pad.evaluate(X_test, y_test_onehot, verbose=0)\n",
    "#print('Test loss:', score_pad[0])\n",
    "#print('Test accuracy:', score_pad[1])\n",
    "\n",
    "#plt.plot(fit_history.history['loss'])\n",
    "#plt.xlabel('Epoch')\n",
    "#plt.ylabel('Loss')\n",
    "#plt.title('Simple CNN with padded imgs')\n",
    "#plt.show()"
   ]
  },
  {
   "cell_type": "code",
   "execution_count": null,
   "metadata": {},
   "outputs": [],
   "source": []
  }
 ],
 "metadata": {
  "kernelspec": {
   "display_name": "Python 3",
   "language": "python",
   "name": "python3"
  },
  "language_info": {
   "codemirror_mode": {
    "name": "ipython",
    "version": 3
   },
   "file_extension": ".py",
   "mimetype": "text/x-python",
   "name": "python",
   "nbconvert_exporter": "python",
   "pygments_lexer": "ipython3",
   "version": "3.6.4"
  }
 },
 "nbformat": 4,
 "nbformat_minor": 2
}
